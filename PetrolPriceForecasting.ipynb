{
 "cells": [
  {
   "cell_type": "code",
   "execution_count": 1,
   "metadata": {},
   "outputs": [],
   "source": [
    "# Importing Libraries\n",
    "import pandas as pd\n",
    "import numpy as np\n",
    "import matplotlib.pyplot as plt"
   ]
  },
  {
   "cell_type": "code",
   "execution_count": 2,
   "metadata": {},
   "outputs": [
    {
     "data": {
      "text/html": [
       "<div>\n",
       "<style scoped>\n",
       "    .dataframe tbody tr th:only-of-type {\n",
       "        vertical-align: middle;\n",
       "    }\n",
       "\n",
       "    .dataframe tbody tr th {\n",
       "        vertical-align: top;\n",
       "    }\n",
       "\n",
       "    .dataframe thead th {\n",
       "        text-align: right;\n",
       "    }\n",
       "</style>\n",
       "<table border=\"1\" class=\"dataframe\">\n",
       "  <thead>\n",
       "    <tr style=\"text-align: right;\">\n",
       "      <th></th>\n",
       "      <th>Date</th>\n",
       "      <th>Petrol (USD)</th>\n",
       "    </tr>\n",
       "  </thead>\n",
       "  <tbody>\n",
       "    <tr>\n",
       "      <th>0</th>\n",
       "      <td>6/9/2003</td>\n",
       "      <td>74.59</td>\n",
       "    </tr>\n",
       "    <tr>\n",
       "      <th>1</th>\n",
       "      <td>6/16/2003</td>\n",
       "      <td>74.47</td>\n",
       "    </tr>\n",
       "    <tr>\n",
       "      <th>2</th>\n",
       "      <td>6/23/2003</td>\n",
       "      <td>74.42</td>\n",
       "    </tr>\n",
       "    <tr>\n",
       "      <th>3</th>\n",
       "      <td>6/30/2003</td>\n",
       "      <td>74.35</td>\n",
       "    </tr>\n",
       "    <tr>\n",
       "      <th>4</th>\n",
       "      <td>7/7/2003</td>\n",
       "      <td>74.28</td>\n",
       "    </tr>\n",
       "  </tbody>\n",
       "</table>\n",
       "</div>"
      ],
      "text/plain": [
       "        Date  Petrol (USD)\n",
       "0   6/9/2003         74.59\n",
       "1  6/16/2003         74.47\n",
       "2  6/23/2003         74.42\n",
       "3  6/30/2003         74.35\n",
       "4   7/7/2003         74.28"
      ]
     },
     "execution_count": 2,
     "metadata": {},
     "output_type": "execute_result"
    }
   ],
   "source": [
    "train_df =  pd.read_csv(\"train_data.csv\")\n",
    "test_df = pd.read_csv(\"test_data.csv\")\n",
    "train_df.head()"
   ]
  },
  {
   "cell_type": "code",
   "execution_count": 3,
   "metadata": {},
   "outputs": [
    {
     "data": {
      "text/html": [
       "<div>\n",
       "<style scoped>\n",
       "    .dataframe tbody tr th:only-of-type {\n",
       "        vertical-align: middle;\n",
       "    }\n",
       "\n",
       "    .dataframe tbody tr th {\n",
       "        vertical-align: top;\n",
       "    }\n",
       "\n",
       "    .dataframe thead th {\n",
       "        text-align: right;\n",
       "    }\n",
       "</style>\n",
       "<table border=\"1\" class=\"dataframe\">\n",
       "  <thead>\n",
       "    <tr style=\"text-align: right;\">\n",
       "      <th></th>\n",
       "      <th>Petrol (USD)</th>\n",
       "    </tr>\n",
       "  </thead>\n",
       "  <tbody>\n",
       "    <tr>\n",
       "      <th>count</th>\n",
       "      <td>811.000000</td>\n",
       "    </tr>\n",
       "    <tr>\n",
       "      <th>mean</th>\n",
       "      <td>110.330481</td>\n",
       "    </tr>\n",
       "    <tr>\n",
       "      <th>std</th>\n",
       "      <td>19.241182</td>\n",
       "    </tr>\n",
       "    <tr>\n",
       "      <th>min</th>\n",
       "      <td>74.210000</td>\n",
       "    </tr>\n",
       "    <tr>\n",
       "      <th>25%</th>\n",
       "      <td>94.525000</td>\n",
       "    </tr>\n",
       "    <tr>\n",
       "      <th>50%</th>\n",
       "      <td>112.420000</td>\n",
       "    </tr>\n",
       "    <tr>\n",
       "      <th>75%</th>\n",
       "      <td>128.560000</td>\n",
       "    </tr>\n",
       "    <tr>\n",
       "      <th>max</th>\n",
       "      <td>189.510000</td>\n",
       "    </tr>\n",
       "  </tbody>\n",
       "</table>\n",
       "</div>"
      ],
      "text/plain": [
       "       Petrol (USD)\n",
       "count    811.000000\n",
       "mean     110.330481\n",
       "std       19.241182\n",
       "min       74.210000\n",
       "25%       94.525000\n",
       "50%      112.420000\n",
       "75%      128.560000\n",
       "max      189.510000"
      ]
     },
     "execution_count": 3,
     "metadata": {},
     "output_type": "execute_result"
    }
   ],
   "source": [
    "train_df.describe()"
   ]
  },
  {
   "cell_type": "code",
   "execution_count": 4,
   "metadata": {},
   "outputs": [
    {
     "name": "stdout",
     "output_type": "stream",
     "text": [
      "<class 'pandas.core.frame.DataFrame'>\n",
      "RangeIndex: 813 entries, 0 to 812\n",
      "Data columns (total 2 columns):\n",
      " #   Column        Non-Null Count  Dtype  \n",
      "---  ------        --------------  -----  \n",
      " 0   Date          813 non-null    object \n",
      " 1   Petrol (USD)  811 non-null    float64\n",
      "dtypes: float64(1), object(1)\n",
      "memory usage: 12.8+ KB\n"
     ]
    }
   ],
   "source": [
    "train_df.info()"
   ]
  },
  {
   "cell_type": "code",
   "execution_count": 5,
   "metadata": {},
   "outputs": [
    {
     "data": {
      "text/plain": [
       "Date            0\n",
       "Petrol (USD)    2\n",
       "dtype: int64"
      ]
     },
     "execution_count": 5,
     "metadata": {},
     "output_type": "execute_result"
    }
   ],
   "source": [
    "train_df.isnull().sum()\n",
    "#df.Date.isna().sum()"
   ]
  },
  {
   "cell_type": "code",
   "execution_count": 6,
   "metadata": {},
   "outputs": [],
   "source": [
    "train_df = train_df.dropna()"
   ]
  },
  {
   "cell_type": "code",
   "execution_count": 7,
   "metadata": {},
   "outputs": [],
   "source": [
    "# Convert 'Date' column to datetime format\n",
    "train_df['Date'] = pd.to_datetime(train_df['Date'])\n",
    "test_df['Date']  = pd.to_datetime(test_df['Date'])"
   ]
  },
  {
   "cell_type": "code",
   "execution_count": 8,
   "metadata": {},
   "outputs": [
    {
     "name": "stdout",
     "output_type": "stream",
     "text": [
      "<class 'pandas.core.frame.DataFrame'>\n",
      "Int64Index: 811 entries, 0 to 812\n",
      "Data columns (total 2 columns):\n",
      " #   Column        Non-Null Count  Dtype         \n",
      "---  ------        --------------  -----         \n",
      " 0   Date          811 non-null    datetime64[ns]\n",
      " 1   Petrol (USD)  811 non-null    float64       \n",
      "dtypes: datetime64[ns](1), float64(1)\n",
      "memory usage: 19.0 KB\n"
     ]
    }
   ],
   "source": [
    "train_df.info()"
   ]
  },
  {
   "cell_type": "code",
   "execution_count": 9,
   "metadata": {},
   "outputs": [
    {
     "data": {
      "image/png": "[encoded data removed]",
      "text/plain": [
       "<Figure size 640x480 with 1 Axes>"
      ]
     },
     "metadata": {},
     "output_type": "display_data"
    }
   ],
   "source": [
    "plt.boxplot(train_df['Petrol (USD)']);plt.title('Boxplot');plt.show()"
   ]
  },
  {
   "cell_type": "code",
   "execution_count": 10,
   "metadata": {},
   "outputs": [
    {
     "data": {
      "image/png": "[encoded data removed]",
      "text/plain": [
       "<Figure size 640x480 with 1 Axes>"
      ]
     },
     "metadata": {},
     "output_type": "display_data"
    }
   ],
   "source": [
    "from feature_engine.outliers import Winsorizer\n",
    "winsor = Winsorizer(capping_method='gaussian', # choose  IQR rule boundaries or gaussian for mean and std\n",
    "                          tail='both', # cap left, right or both tails \n",
    "                          fold=1.5\n",
    "                          )\n",
    "train_df['Petrol (USD)']=winsor.fit_transform(train_df[['Petrol (USD)']])\n",
    "\n",
    "plt.boxplot(train_df['Petrol (USD)']);plt.title('Boxplot');plt.show()"
   ]
  },
  {
   "cell_type": "code",
   "execution_count": 11,
   "metadata": {},
   "outputs": [
    {
     "data": {
      "image/png": "[encoded data removed]",
      "text/plain": [
       "<Figure size 1000x600 with 1 Axes>"
      ]
     },
     "metadata": {},
     "output_type": "display_data"
    }
   ],
   "source": [
    "# Plot a line chart to visualize the trend of petrol prices over time\n",
    "plt.figure(figsize=(10, 6))\n",
    "plt.plot(train_df['Date'], train_df['Petrol (USD)'])\n",
    "plt.title('Petrol Prices Over Time')\n",
    "plt.xlabel('Date')\n",
    "plt.ylabel('Petrol Price (USD)')\n",
    "plt.xticks(rotation=45)\n",
    "plt.tight_layout()\n",
    "plt.show()"
   ]
  },
  {
   "cell_type": "code",
   "execution_count": 12,
   "metadata": {},
   "outputs": [],
   "source": [
    "# Feature Engineering: Extract additional features from the 'Date' column\n",
    "train_df['Year'] = train_df['Date'].dt.year\n",
    "train_df['Month'] = train_df['Date'].dt.month\n",
    "train_df['Day'] = train_df['Date'].dt.day\n",
    "\n",
    "# Feature Engineering: Extract additional features from the 'Date' column\n",
    "test_df['Year'] = test_df['Date'].dt.year\n",
    "test_df['Month'] = test_df['Date'].dt.month\n",
    "test_df['Day'] = test_df['Date'].dt.day"
   ]
  },
  {
   "cell_type": "code",
   "execution_count": 13,
   "metadata": {},
   "outputs": [
    {
     "data": {
      "image/png": "[encoded data removed]",
      "text/plain": [
       "<Figure size 1000x600 with 1 Axes>"
      ]
     },
     "metadata": {},
     "output_type": "display_data"
    }
   ],
   "source": [
    "# Plot the average petrol price by year\n",
    "plt.figure(figsize=(10, 6))\n",
    "avg_price_by_year = train_df.groupby('Year')['Petrol (USD)'].mean()\n",
    "plt.plot(avg_price_by_year.index, avg_price_by_year.values, marker='o')\n",
    "plt.title('Average Petrol Price by Year')\n",
    "plt.xlabel('Year')\n",
    "plt.ylabel('Average Petrol Price (USD)')\n",
    "plt.xticks(rotation=45)\n",
    "plt.tight_layout()\n",
    "plt.show()"
   ]
  },
  {
   "cell_type": "code",
   "execution_count": 14,
   "metadata": {},
   "outputs": [
    {
     "data": {
      "image/png": "[encoded data removed]",
      "text/plain": [
       "<Figure size 1000x600 with 1 Axes>"
      ]
     },
     "metadata": {},
     "output_type": "display_data"
    }
   ],
   "source": [
    "# Plot the average petrol price by month\n",
    "plt.figure(figsize=(10, 6))\n",
    "avg_price_by_month = train_df.groupby('Month')['Petrol (USD)'].mean()\n",
    "plt.plot(avg_price_by_month.index, avg_price_by_month.values, marker='o')\n",
    "plt.title('Average Petrol Price by Month')\n",
    "plt.xlabel('Month')\n",
    "plt.ylabel('Average Petrol Price (USD)')\n",
    "plt.xticks(range(1, 13), ['Jan', 'Feb', 'Mar', 'Apr', 'May', 'Jun', 'Jul', 'Aug', 'Sep', 'Oct', 'Nov', 'Dec'])\n",
    "plt.tight_layout()\n",
    "plt.show()"
   ]
  },
  {
   "cell_type": "code",
   "execution_count": 15,
   "metadata": {},
   "outputs": [
    {
     "name": "stderr",
     "output_type": "stream",
     "text": [
      "C:\\Users\\abdul\\AppData\\Local\\Temp\\ipykernel_9612\\2987798298.py:4: UserWarning: \n",
      "\n",
      "`distplot` is a deprecated function and will be removed in seaborn v0.14.0.\n",
      "\n",
      "Please adapt your code to use either `displot` (a figure-level function with\n",
      "similar flexibility) or `histplot` (an axes-level function for histograms).\n",
      "\n",
      "For a guide to updating your code to use the new functions, please see\n",
      "https://gist.github.com/mwaskom/de44147ed2974457ad6372750bbe5751\n",
      "\n",
      "  sns.distplot(train_df['Petrol (USD)'])\n"
     ]
    },
    {
     "data": {
      "image/png": "[encoded data removed]",
      "text/plain": [
       "<Figure size 640x480 with 1 Axes>"
      ]
     },
     "metadata": {},
     "output_type": "display_data"
    }
   ],
   "source": [
    "# plot the distribution\n",
    "import seaborn as sns\n",
    "\n",
    "sns.distplot(train_df['Petrol (USD)'])\n",
    "\n",
    "# show the plot\n",
    "plt.show()"
   ]
  },
  {
   "cell_type": "code",
   "execution_count": null,
   "metadata": {},
   "outputs": [],
   "source": [
    "# Convert categorical variables (e.g., Month) into dummy/indicator variables\n",
    "#train_df = pd.get_dummies(train_df, columns=['Month'], drop_first=True)\n",
    "#test_df = pd.get_dummies(test_df, columns=['Month'], drop_first=True)"
   ]
  },
  {
   "cell_type": "code",
   "execution_count": 16,
   "metadata": {},
   "outputs": [
    {
     "data": {
      "text/html": [
       "<div>\n",
       "<style scoped>\n",
       "    .dataframe tbody tr th:only-of-type {\n",
       "        vertical-align: middle;\n",
       "    }\n",
       "\n",
       "    .dataframe tbody tr th {\n",
       "        vertical-align: top;\n",
       "    }\n",
       "\n",
       "    .dataframe thead th {\n",
       "        text-align: right;\n",
       "    }\n",
       "</style>\n",
       "<table border=\"1\" class=\"dataframe\">\n",
       "  <thead>\n",
       "    <tr style=\"text-align: right;\">\n",
       "      <th></th>\n",
       "      <th>Date</th>\n",
       "      <th>Petrol (USD)</th>\n",
       "      <th>Year</th>\n",
       "      <th>Month</th>\n",
       "      <th>Day</th>\n",
       "    </tr>\n",
       "  </thead>\n",
       "  <tbody>\n",
       "    <tr>\n",
       "      <th>0</th>\n",
       "      <td>2003-06-09</td>\n",
       "      <td>81.486507</td>\n",
       "      <td>2003</td>\n",
       "      <td>6</td>\n",
       "      <td>9</td>\n",
       "    </tr>\n",
       "    <tr>\n",
       "      <th>1</th>\n",
       "      <td>2003-06-16</td>\n",
       "      <td>81.486507</td>\n",
       "      <td>2003</td>\n",
       "      <td>6</td>\n",
       "      <td>16</td>\n",
       "    </tr>\n",
       "    <tr>\n",
       "      <th>2</th>\n",
       "      <td>2003-06-23</td>\n",
       "      <td>81.486507</td>\n",
       "      <td>2003</td>\n",
       "      <td>6</td>\n",
       "      <td>23</td>\n",
       "    </tr>\n",
       "    <tr>\n",
       "      <th>3</th>\n",
       "      <td>2003-06-30</td>\n",
       "      <td>81.486507</td>\n",
       "      <td>2003</td>\n",
       "      <td>6</td>\n",
       "      <td>30</td>\n",
       "    </tr>\n",
       "    <tr>\n",
       "      <th>4</th>\n",
       "      <td>2003-07-07</td>\n",
       "      <td>81.486507</td>\n",
       "      <td>2003</td>\n",
       "      <td>7</td>\n",
       "      <td>7</td>\n",
       "    </tr>\n",
       "  </tbody>\n",
       "</table>\n",
       "</div>"
      ],
      "text/plain": [
       "        Date  Petrol (USD)  Year  Month  Day\n",
       "0 2003-06-09     81.486507  2003      6    9\n",
       "1 2003-06-16     81.486507  2003      6   16\n",
       "2 2003-06-23     81.486507  2003      6   23\n",
       "3 2003-06-30     81.486507  2003      6   30\n",
       "4 2003-07-07     81.486507  2003      7    7"
      ]
     },
     "execution_count": 16,
     "metadata": {},
     "output_type": "execute_result"
    }
   ],
   "source": [
    "train_df.head()"
   ]
  },
  {
   "cell_type": "code",
   "execution_count": 18,
   "metadata": {},
   "outputs": [
    {
     "data": {
      "text/html": [
       "<div>\n",
       "<style scoped>\n",
       "    .dataframe tbody tr th:only-of-type {\n",
       "        vertical-align: middle;\n",
       "    }\n",
       "\n",
       "    .dataframe tbody tr th {\n",
       "        vertical-align: top;\n",
       "    }\n",
       "\n",
       "    .dataframe thead th {\n",
       "        text-align: right;\n",
       "    }\n",
       "</style>\n",
       "<table border=\"1\" class=\"dataframe\">\n",
       "  <thead>\n",
       "    <tr style=\"text-align: right;\">\n",
       "      <th></th>\n",
       "      <th>Date</th>\n",
       "      <th>Prediction</th>\n",
       "      <th>Year</th>\n",
       "      <th>Month</th>\n",
       "      <th>Day</th>\n",
       "    </tr>\n",
       "  </thead>\n",
       "  <tbody>\n",
       "    <tr>\n",
       "      <th>0</th>\n",
       "      <td>2019-01-01</td>\n",
       "      <td>NaN</td>\n",
       "      <td>2019</td>\n",
       "      <td>1</td>\n",
       "      <td>1</td>\n",
       "    </tr>\n",
       "    <tr>\n",
       "      <th>1</th>\n",
       "      <td>2019-01-02</td>\n",
       "      <td>NaN</td>\n",
       "      <td>2019</td>\n",
       "      <td>1</td>\n",
       "      <td>2</td>\n",
       "    </tr>\n",
       "    <tr>\n",
       "      <th>2</th>\n",
       "      <td>2019-01-03</td>\n",
       "      <td>NaN</td>\n",
       "      <td>2019</td>\n",
       "      <td>1</td>\n",
       "      <td>3</td>\n",
       "    </tr>\n",
       "    <tr>\n",
       "      <th>3</th>\n",
       "      <td>2019-01-04</td>\n",
       "      <td>NaN</td>\n",
       "      <td>2019</td>\n",
       "      <td>1</td>\n",
       "      <td>4</td>\n",
       "    </tr>\n",
       "    <tr>\n",
       "      <th>4</th>\n",
       "      <td>2019-01-05</td>\n",
       "      <td>NaN</td>\n",
       "      <td>2019</td>\n",
       "      <td>1</td>\n",
       "      <td>5</td>\n",
       "    </tr>\n",
       "  </tbody>\n",
       "</table>\n",
       "</div>"
      ],
      "text/plain": [
       "        Date  Prediction  Year  Month  Day\n",
       "0 2019-01-01         NaN  2019      1    1\n",
       "1 2019-01-02         NaN  2019      1    2\n",
       "2 2019-01-03         NaN  2019      1    3\n",
       "3 2019-01-04         NaN  2019      1    4\n",
       "4 2019-01-05         NaN  2019      1    5"
      ]
     },
     "execution_count": 18,
     "metadata": {},
     "output_type": "execute_result"
    }
   ],
   "source": [
    "test_df.head()"
   ]
  },
  {
   "attachments": {},
   "cell_type": "markdown",
   "metadata": {},
   "source": [
    "### Splitting Data"
   ]
  },
  {
   "cell_type": "code",
   "execution_count": 17,
   "metadata": {},
   "outputs": [],
   "source": [
    "# Split the data into features (X) and target (y)\n",
    "X = train_df[['Year','Month','Day']]\n",
    "y = train_df['Petrol (USD)']"
   ]
  },
  {
   "cell_type": "code",
   "execution_count": null,
   "metadata": {},
   "outputs": [],
   "source": [
    "# Split the data into features (X) and target (y)\n",
    "#X = df['Date']\n",
    "#y = df['Petrol (USD)']"
   ]
  },
  {
   "cell_type": "code",
   "execution_count": 18,
   "metadata": {},
   "outputs": [],
   "source": [
    "# Split the data into training and testing sets\n",
    "from sklearn.model_selection import train_test_split\n",
    "X_train, X_test, y_train, y_test = train_test_split(X, y, test_size=0.1, random_state=0)"
   ]
  },
  {
   "attachments": {},
   "cell_type": "markdown",
   "metadata": {},
   "source": [
    "## Model Building"
   ]
  },
  {
   "attachments": {},
   "cell_type": "markdown",
   "metadata": {},
   "source": [
    "### Baseline Model"
   ]
  },
  {
   "cell_type": "code",
   "execution_count": 19,
   "metadata": {},
   "outputs": [
    {
     "data": {
      "text/plain": [
       "[110.14208577998811,\n",
       " 110.14208577998811,\n",
       " 110.14208577998811,\n",
       " 110.14208577998811,\n",
       " 110.14208577998811,\n",
       " 110.14208577998811,\n",
       " 110.14208577998811,\n",
       " 110.14208577998811,\n",
       " 110.14208577998811,\n",
       " 110.14208577998811,\n",
       " 110.14208577998811,\n",
       " 110.14208577998811,\n",
       " 110.14208577998811,\n",
       " 110.14208577998811,\n",
       " 110.14208577998811,\n",
       " 110.14208577998811,\n",
       " 110.14208577998811,\n",
       " 110.14208577998811,\n",
       " 110.14208577998811,\n",
       " 110.14208577998811,\n",
       " 110.14208577998811,\n",
       " 110.14208577998811,\n",
       " 110.14208577998811,\n",
       " 110.14208577998811,\n",
       " 110.14208577998811,\n",
       " 110.14208577998811,\n",
       " 110.14208577998811,\n",
       " 110.14208577998811,\n",
       " 110.14208577998811,\n",
       " 110.14208577998811,\n",
       " 110.14208577998811,\n",
       " 110.14208577998811,\n",
       " 110.14208577998811,\n",
       " 110.14208577998811,\n",
       " 110.14208577998811,\n",
       " 110.14208577998811,\n",
       " 110.14208577998811,\n",
       " 110.14208577998811,\n",
       " 110.14208577998811,\n",
       " 110.14208577998811,\n",
       " 110.14208577998811,\n",
       " 110.14208577998811,\n",
       " 110.14208577998811,\n",
       " 110.14208577998811,\n",
       " 110.14208577998811,\n",
       " 110.14208577998811,\n",
       " 110.14208577998811,\n",
       " 110.14208577998811,\n",
       " 110.14208577998811,\n",
       " 110.14208577998811,\n",
       " 110.14208577998811,\n",
       " 110.14208577998811,\n",
       " 110.14208577998811,\n",
       " 110.14208577998811,\n",
       " 110.14208577998811,\n",
       " 110.14208577998811,\n",
       " 110.14208577998811,\n",
       " 110.14208577998811,\n",
       " 110.14208577998811,\n",
       " 110.14208577998811,\n",
       " 110.14208577998811,\n",
       " 110.14208577998811,\n",
       " 110.14208577998811,\n",
       " 110.14208577998811,\n",
       " 110.14208577998811,\n",
       " 110.14208577998811,\n",
       " 110.14208577998811,\n",
       " 110.14208577998811,\n",
       " 110.14208577998811,\n",
       " 110.14208577998811,\n",
       " 110.14208577998811,\n",
       " 110.14208577998811,\n",
       " 110.14208577998811,\n",
       " 110.14208577998811,\n",
       " 110.14208577998811,\n",
       " 110.14208577998811,\n",
       " 110.14208577998811,\n",
       " 110.14208577998811,\n",
       " 110.14208577998811,\n",
       " 110.14208577998811,\n",
       " 110.14208577998811,\n",
       " 110.14208577998811,\n",
       " 110.14208577998811,\n",
       " 110.14208577998811,\n",
       " 110.14208577998811,\n",
       " 110.14208577998811,\n",
       " 110.14208577998811,\n",
       " 110.14208577998811,\n",
       " 110.14208577998811,\n",
       " 110.14208577998811,\n",
       " 110.14208577998811,\n",
       " 110.14208577998811,\n",
       " 110.14208577998811,\n",
       " 110.14208577998811,\n",
       " 110.14208577998811,\n",
       " 110.14208577998811,\n",
       " 110.14208577998811,\n",
       " 110.14208577998811,\n",
       " 110.14208577998811,\n",
       " 110.14208577998811,\n",
       " 110.14208577998811,\n",
       " 110.14208577998811,\n",
       " 110.14208577998811,\n",
       " 110.14208577998811,\n",
       " 110.14208577998811,\n",
       " 110.14208577998811,\n",
       " 110.14208577998811,\n",
       " 110.14208577998811,\n",
       " 110.14208577998811,\n",
       " 110.14208577998811,\n",
       " 110.14208577998811,\n",
       " 110.14208577998811,\n",
       " 110.14208577998811,\n",
       " 110.14208577998811,\n",
       " 110.14208577998811,\n",
       " 110.14208577998811,\n",
       " 110.14208577998811,\n",
       " 110.14208577998811,\n",
       " 110.14208577998811,\n",
       " 110.14208577998811,\n",
       " 110.14208577998811,\n",
       " 110.14208577998811,\n",
       " 110.14208577998811,\n",
       " 110.14208577998811,\n",
       " 110.14208577998811,\n",
       " 110.14208577998811,\n",
       " 110.14208577998811,\n",
       " 110.14208577998811,\n",
       " 110.14208577998811,\n",
       " 110.14208577998811,\n",
       " 110.14208577998811,\n",
       " 110.14208577998811,\n",
       " 110.14208577998811,\n",
       " 110.14208577998811,\n",
       " 110.14208577998811,\n",
       " 110.14208577998811,\n",
       " 110.14208577998811,\n",
       " 110.14208577998811,\n",
       " 110.14208577998811,\n",
       " 110.14208577998811,\n",
       " 110.14208577998811,\n",
       " 110.14208577998811,\n",
       " 110.14208577998811,\n",
       " 110.14208577998811,\n",
       " 110.14208577998811,\n",
       " 110.14208577998811,\n",
       " 110.14208577998811,\n",
       " 110.14208577998811,\n",
       " 110.14208577998811,\n",
       " 110.14208577998811,\n",
       " 110.14208577998811,\n",
       " 110.14208577998811,\n",
       " 110.14208577998811,\n",
       " 110.14208577998811,\n",
       " 110.14208577998811,\n",
       " 110.14208577998811,\n",
       " 110.14208577998811,\n",
       " 110.14208577998811,\n",
       " 110.14208577998811,\n",
       " 110.14208577998811,\n",
       " 110.14208577998811,\n",
       " 110.14208577998811,\n",
       " 110.14208577998811,\n",
       " 110.14208577998811,\n",
       " 110.14208577998811,\n",
       " 110.14208577998811,\n",
       " 110.14208577998811,\n",
       " 110.14208577998811,\n",
       " 110.14208577998811,\n",
       " 110.14208577998811,\n",
       " 110.14208577998811,\n",
       " 110.14208577998811,\n",
       " 110.14208577998811,\n",
       " 110.14208577998811,\n",
       " 110.14208577998811,\n",
       " 110.14208577998811,\n",
       " 110.14208577998811,\n",
       " 110.14208577998811,\n",
       " 110.14208577998811,\n",
       " 110.14208577998811,\n",
       " 110.14208577998811,\n",
       " 110.14208577998811,\n",
       " 110.14208577998811,\n",
       " 110.14208577998811,\n",
       " 110.14208577998811,\n",
       " 110.14208577998811,\n",
       " 110.14208577998811,\n",
       " 110.14208577998811,\n",
       " 110.14208577998811,\n",
       " 110.14208577998811,\n",
       " 110.14208577998811,\n",
       " 110.14208577998811,\n",
       " 110.14208577998811,\n",
       " 110.14208577998811,\n",
       " 110.14208577998811,\n",
       " 110.14208577998811,\n",
       " 110.14208577998811,\n",
       " 110.14208577998811,\n",
       " 110.14208577998811,\n",
       " 110.14208577998811,\n",
       " 110.14208577998811,\n",
       " 110.14208577998811,\n",
       " 110.14208577998811,\n",
       " 110.14208577998811,\n",
       " 110.14208577998811,\n",
       " 110.14208577998811,\n",
       " 110.14208577998811,\n",
       " 110.14208577998811,\n",
       " 110.14208577998811,\n",
       " 110.14208577998811,\n",
       " 110.14208577998811,\n",
       " 110.14208577998811,\n",
       " 110.14208577998811,\n",
       " 110.14208577998811,\n",
       " 110.14208577998811,\n",
       " 110.14208577998811,\n",
       " 110.14208577998811,\n",
       " 110.14208577998811,\n",
       " 110.14208577998811,\n",
       " 110.14208577998811,\n",
       " 110.14208577998811,\n",
       " 110.14208577998811,\n",
       " 110.14208577998811,\n",
       " 110.14208577998811,\n",
       " 110.14208577998811,\n",
       " 110.14208577998811,\n",
       " 110.14208577998811,\n",
       " 110.14208577998811,\n",
       " 110.14208577998811,\n",
       " 110.14208577998811,\n",
       " 110.14208577998811,\n",
       " 110.14208577998811,\n",
       " 110.14208577998811,\n",
       " 110.14208577998811,\n",
       " 110.14208577998811,\n",
       " 110.14208577998811,\n",
       " 110.14208577998811,\n",
       " 110.14208577998811,\n",
       " 110.14208577998811,\n",
       " 110.14208577998811,\n",
       " 110.14208577998811,\n",
       " 110.14208577998811,\n",
       " 110.14208577998811,\n",
       " 110.14208577998811,\n",
       " 110.14208577998811,\n",
       " 110.14208577998811,\n",
       " 110.14208577998811,\n",
       " 110.14208577998811,\n",
       " 110.14208577998811,\n",
       " 110.14208577998811,\n",
       " 110.14208577998811,\n",
       " 110.14208577998811,\n",
       " 110.14208577998811,\n",
       " 110.14208577998811,\n",
       " 110.14208577998811,\n",
       " 110.14208577998811,\n",
       " 110.14208577998811,\n",
       " 110.14208577998811,\n",
       " 110.14208577998811,\n",
       " 110.14208577998811,\n",
       " 110.14208577998811,\n",
       " 110.14208577998811,\n",
       " 110.14208577998811,\n",
       " 110.14208577998811,\n",
       " 110.14208577998811,\n",
       " 110.14208577998811,\n",
       " 110.14208577998811,\n",
       " 110.14208577998811,\n",
       " 110.14208577998811,\n",
       " 110.14208577998811,\n",
       " 110.14208577998811,\n",
       " 110.14208577998811,\n",
       " 110.14208577998811,\n",
       " 110.14208577998811,\n",
       " 110.14208577998811,\n",
       " 110.14208577998811,\n",
       " 110.14208577998811,\n",
       " 110.14208577998811,\n",
       " 110.14208577998811,\n",
       " 110.14208577998811,\n",
       " 110.14208577998811,\n",
       " 110.14208577998811,\n",
       " 110.14208577998811,\n",
       " 110.14208577998811,\n",
       " 110.14208577998811,\n",
       " 110.14208577998811,\n",
       " 110.14208577998811,\n",
       " 110.14208577998811,\n",
       " 110.14208577998811,\n",
       " 110.14208577998811,\n",
       " 110.14208577998811,\n",
       " 110.14208577998811,\n",
       " 110.14208577998811,\n",
       " 110.14208577998811,\n",
       " 110.14208577998811,\n",
       " 110.14208577998811,\n",
       " 110.14208577998811,\n",
       " 110.14208577998811,\n",
       " 110.14208577998811,\n",
       " 110.14208577998811,\n",
       " 110.14208577998811,\n",
       " 110.14208577998811,\n",
       " 110.14208577998811,\n",
       " 110.14208577998811,\n",
       " 110.14208577998811,\n",
       " 110.14208577998811,\n",
       " 110.14208577998811,\n",
       " 110.14208577998811,\n",
       " 110.14208577998811,\n",
       " 110.14208577998811,\n",
       " 110.14208577998811,\n",
       " 110.14208577998811,\n",
       " 110.14208577998811,\n",
       " 110.14208577998811,\n",
       " 110.14208577998811,\n",
       " 110.14208577998811,\n",
       " 110.14208577998811,\n",
       " 110.14208577998811,\n",
       " 110.14208577998811,\n",
       " 110.14208577998811,\n",
       " 110.14208577998811,\n",
       " 110.14208577998811,\n",
       " 110.14208577998811,\n",
       " 110.14208577998811,\n",
       " 110.14208577998811,\n",
       " 110.14208577998811,\n",
       " 110.14208577998811,\n",
       " 110.14208577998811,\n",
       " 110.14208577998811,\n",
       " 110.14208577998811,\n",
       " 110.14208577998811,\n",
       " 110.14208577998811,\n",
       " 110.14208577998811,\n",
       " 110.14208577998811,\n",
       " 110.14208577998811,\n",
       " 110.14208577998811,\n",
       " 110.14208577998811,\n",
       " 110.14208577998811,\n",
       " 110.14208577998811,\n",
       " 110.14208577998811,\n",
       " 110.14208577998811,\n",
       " 110.14208577998811,\n",
       " 110.14208577998811,\n",
       " 110.14208577998811,\n",
       " 110.14208577998811,\n",
       " 110.14208577998811,\n",
       " 110.14208577998811,\n",
       " 110.14208577998811,\n",
       " 110.14208577998811,\n",
       " 110.14208577998811,\n",
       " 110.14208577998811,\n",
       " 110.14208577998811,\n",
       " 110.14208577998811,\n",
       " 110.14208577998811,\n",
       " 110.14208577998811,\n",
       " 110.14208577998811,\n",
       " 110.14208577998811,\n",
       " 110.14208577998811,\n",
       " 110.14208577998811,\n",
       " 110.14208577998811,\n",
       " 110.14208577998811,\n",
       " 110.14208577998811,\n",
       " 110.14208577998811,\n",
       " 110.14208577998811,\n",
       " 110.14208577998811,\n",
       " 110.14208577998811,\n",
       " 110.14208577998811,\n",
       " 110.14208577998811,\n",
       " 110.14208577998811,\n",
       " 110.14208577998811,\n",
       " 110.14208577998811,\n",
       " 110.14208577998811,\n",
       " 110.14208577998811,\n",
       " 110.14208577998811,\n",
       " 110.14208577998811,\n",
       " 110.14208577998811,\n",
       " 110.14208577998811,\n",
       " 110.14208577998811,\n",
       " 110.14208577998811,\n",
       " 110.14208577998811,\n",
       " 110.14208577998811,\n",
       " 110.14208577998811,\n",
       " 110.14208577998811,\n",
       " 110.14208577998811,\n",
       " 110.14208577998811,\n",
       " 110.14208577998811,\n",
       " 110.14208577998811,\n",
       " 110.14208577998811,\n",
       " 110.14208577998811,\n",
       " 110.14208577998811,\n",
       " 110.14208577998811,\n",
       " 110.14208577998811,\n",
       " 110.14208577998811,\n",
       " 110.14208577998811,\n",
       " 110.14208577998811,\n",
       " 110.14208577998811,\n",
       " 110.14208577998811,\n",
       " 110.14208577998811,\n",
       " 110.14208577998811,\n",
       " 110.14208577998811,\n",
       " 110.14208577998811,\n",
       " 110.14208577998811,\n",
       " 110.14208577998811,\n",
       " 110.14208577998811,\n",
       " 110.14208577998811,\n",
       " 110.14208577998811,\n",
       " 110.14208577998811,\n",
       " 110.14208577998811,\n",
       " 110.14208577998811,\n",
       " 110.14208577998811,\n",
       " 110.14208577998811,\n",
       " 110.14208577998811,\n",
       " 110.14208577998811,\n",
       " 110.14208577998811,\n",
       " 110.14208577998811,\n",
       " 110.14208577998811,\n",
       " 110.14208577998811,\n",
       " 110.14208577998811,\n",
       " 110.14208577998811,\n",
       " 110.14208577998811,\n",
       " 110.14208577998811,\n",
       " 110.14208577998811,\n",
       " 110.14208577998811,\n",
       " 110.14208577998811,\n",
       " 110.14208577998811,\n",
       " 110.14208577998811,\n",
       " 110.14208577998811,\n",
       " 110.14208577998811,\n",
       " 110.14208577998811,\n",
       " 110.14208577998811,\n",
       " 110.14208577998811,\n",
       " 110.14208577998811,\n",
       " 110.14208577998811,\n",
       " 110.14208577998811,\n",
       " 110.14208577998811,\n",
       " 110.14208577998811,\n",
       " 110.14208577998811,\n",
       " 110.14208577998811,\n",
       " 110.14208577998811,\n",
       " 110.14208577998811,\n",
       " 110.14208577998811,\n",
       " 110.14208577998811,\n",
       " 110.14208577998811,\n",
       " 110.14208577998811,\n",
       " 110.14208577998811,\n",
       " 110.14208577998811,\n",
       " 110.14208577998811,\n",
       " 110.14208577998811,\n",
       " 110.14208577998811,\n",
       " 110.14208577998811,\n",
       " 110.14208577998811,\n",
       " 110.14208577998811,\n",
       " 110.14208577998811,\n",
       " 110.14208577998811,\n",
       " 110.14208577998811,\n",
       " 110.14208577998811,\n",
       " 110.14208577998811,\n",
       " 110.14208577998811,\n",
       " 110.14208577998811,\n",
       " 110.14208577998811,\n",
       " 110.14208577998811,\n",
       " 110.14208577998811,\n",
       " 110.14208577998811,\n",
       " 110.14208577998811,\n",
       " 110.14208577998811,\n",
       " 110.14208577998811,\n",
       " 110.14208577998811,\n",
       " 110.14208577998811,\n",
       " 110.14208577998811,\n",
       " 110.14208577998811,\n",
       " 110.14208577998811,\n",
       " 110.14208577998811,\n",
       " 110.14208577998811,\n",
       " 110.14208577998811,\n",
       " 110.14208577998811,\n",
       " 110.14208577998811,\n",
       " 110.14208577998811,\n",
       " 110.14208577998811,\n",
       " 110.14208577998811,\n",
       " 110.14208577998811,\n",
       " 110.14208577998811,\n",
       " 110.14208577998811,\n",
       " 110.14208577998811,\n",
       " 110.14208577998811,\n",
       " 110.14208577998811,\n",
       " 110.14208577998811,\n",
       " 110.14208577998811,\n",
       " 110.14208577998811,\n",
       " 110.14208577998811,\n",
       " 110.14208577998811,\n",
       " 110.14208577998811,\n",
       " 110.14208577998811,\n",
       " 110.14208577998811,\n",
       " 110.14208577998811,\n",
       " 110.14208577998811,\n",
       " 110.14208577998811,\n",
       " 110.14208577998811,\n",
       " 110.14208577998811,\n",
       " 110.14208577998811,\n",
       " 110.14208577998811,\n",
       " 110.14208577998811,\n",
       " 110.14208577998811,\n",
       " 110.14208577998811,\n",
       " 110.14208577998811,\n",
       " 110.14208577998811,\n",
       " 110.14208577998811,\n",
       " 110.14208577998811,\n",
       " 110.14208577998811,\n",
       " 110.14208577998811,\n",
       " 110.14208577998811,\n",
       " 110.14208577998811,\n",
       " 110.14208577998811,\n",
       " 110.14208577998811,\n",
       " 110.14208577998811,\n",
       " 110.14208577998811,\n",
       " 110.14208577998811,\n",
       " 110.14208577998811,\n",
       " 110.14208577998811,\n",
       " 110.14208577998811,\n",
       " 110.14208577998811,\n",
       " 110.14208577998811,\n",
       " 110.14208577998811,\n",
       " 110.14208577998811,\n",
       " 110.14208577998811,\n",
       " 110.14208577998811,\n",
       " 110.14208577998811,\n",
       " 110.14208577998811,\n",
       " 110.14208577998811,\n",
       " 110.14208577998811,\n",
       " 110.14208577998811,\n",
       " 110.14208577998811,\n",
       " 110.14208577998811,\n",
       " 110.14208577998811,\n",
       " 110.14208577998811,\n",
       " 110.14208577998811,\n",
       " 110.14208577998811,\n",
       " 110.14208577998811,\n",
       " 110.14208577998811,\n",
       " 110.14208577998811,\n",
       " 110.14208577998811,\n",
       " 110.14208577998811,\n",
       " 110.14208577998811,\n",
       " 110.14208577998811,\n",
       " 110.14208577998811,\n",
       " 110.14208577998811,\n",
       " 110.14208577998811,\n",
       " 110.14208577998811,\n",
       " 110.14208577998811,\n",
       " 110.14208577998811,\n",
       " 110.14208577998811,\n",
       " 110.14208577998811,\n",
       " 110.14208577998811,\n",
       " 110.14208577998811,\n",
       " 110.14208577998811,\n",
       " 110.14208577998811,\n",
       " 110.14208577998811,\n",
       " 110.14208577998811,\n",
       " 110.14208577998811,\n",
       " 110.14208577998811,\n",
       " 110.14208577998811,\n",
       " 110.14208577998811,\n",
       " 110.14208577998811,\n",
       " 110.14208577998811,\n",
       " 110.14208577998811,\n",
       " 110.14208577998811,\n",
       " 110.14208577998811,\n",
       " 110.14208577998811,\n",
       " 110.14208577998811,\n",
       " 110.14208577998811,\n",
       " 110.14208577998811,\n",
       " 110.14208577998811,\n",
       " 110.14208577998811,\n",
       " 110.14208577998811,\n",
       " 110.14208577998811,\n",
       " 110.14208577998811,\n",
       " 110.14208577998811,\n",
       " 110.14208577998811,\n",
       " 110.14208577998811,\n",
       " 110.14208577998811,\n",
       " 110.14208577998811,\n",
       " 110.14208577998811,\n",
       " 110.14208577998811,\n",
       " 110.14208577998811,\n",
       " 110.14208577998811,\n",
       " 110.14208577998811,\n",
       " 110.14208577998811,\n",
       " 110.14208577998811,\n",
       " 110.14208577998811,\n",
       " 110.14208577998811,\n",
       " 110.14208577998811,\n",
       " 110.14208577998811,\n",
       " 110.14208577998811,\n",
       " 110.14208577998811,\n",
       " 110.14208577998811,\n",
       " 110.14208577998811,\n",
       " 110.14208577998811,\n",
       " 110.14208577998811,\n",
       " 110.14208577998811,\n",
       " 110.14208577998811,\n",
       " 110.14208577998811,\n",
       " 110.14208577998811,\n",
       " 110.14208577998811,\n",
       " 110.14208577998811,\n",
       " 110.14208577998811,\n",
       " 110.14208577998811,\n",
       " 110.14208577998811,\n",
       " 110.14208577998811,\n",
       " 110.14208577998811,\n",
       " 110.14208577998811,\n",
       " 110.14208577998811,\n",
       " 110.14208577998811,\n",
       " 110.14208577998811,\n",
       " 110.14208577998811,\n",
       " 110.14208577998811,\n",
       " 110.14208577998811,\n",
       " 110.14208577998811,\n",
       " 110.14208577998811,\n",
       " 110.14208577998811,\n",
       " 110.14208577998811,\n",
       " 110.14208577998811,\n",
       " 110.14208577998811,\n",
       " 110.14208577998811,\n",
       " 110.14208577998811,\n",
       " 110.14208577998811,\n",
       " 110.14208577998811,\n",
       " 110.14208577998811,\n",
       " 110.14208577998811,\n",
       " 110.14208577998811,\n",
       " 110.14208577998811,\n",
       " 110.14208577998811,\n",
       " 110.14208577998811,\n",
       " 110.14208577998811,\n",
       " 110.14208577998811,\n",
       " 110.14208577998811,\n",
       " 110.14208577998811,\n",
       " 110.14208577998811,\n",
       " 110.14208577998811,\n",
       " 110.14208577998811,\n",
       " 110.14208577998811,\n",
       " 110.14208577998811,\n",
       " 110.14208577998811,\n",
       " 110.14208577998811,\n",
       " 110.14208577998811,\n",
       " 110.14208577998811,\n",
       " 110.14208577998811,\n",
       " 110.14208577998811,\n",
       " 110.14208577998811,\n",
       " 110.14208577998811,\n",
       " 110.14208577998811,\n",
       " 110.14208577998811,\n",
       " 110.14208577998811,\n",
       " 110.14208577998811,\n",
       " 110.14208577998811,\n",
       " 110.14208577998811,\n",
       " 110.14208577998811,\n",
       " 110.14208577998811,\n",
       " 110.14208577998811,\n",
       " 110.14208577998811,\n",
       " 110.14208577998811,\n",
       " 110.14208577998811,\n",
       " 110.14208577998811,\n",
       " 110.14208577998811,\n",
       " 110.14208577998811,\n",
       " 110.14208577998811,\n",
       " 110.14208577998811,\n",
       " 110.14208577998811,\n",
       " 110.14208577998811,\n",
       " 110.14208577998811,\n",
       " 110.14208577998811,\n",
       " 110.14208577998811,\n",
       " 110.14208577998811,\n",
       " 110.14208577998811,\n",
       " 110.14208577998811,\n",
       " 110.14208577998811,\n",
       " 110.14208577998811,\n",
       " 110.14208577998811,\n",
       " 110.14208577998811,\n",
       " 110.14208577998811,\n",
       " 110.14208577998811,\n",
       " 110.14208577998811,\n",
       " 110.14208577998811,\n",
       " 110.14208577998811,\n",
       " 110.14208577998811,\n",
       " 110.14208577998811,\n",
       " 110.14208577998811,\n",
       " 110.14208577998811,\n",
       " 110.14208577998811,\n",
       " 110.14208577998811,\n",
       " 110.14208577998811,\n",
       " 110.14208577998811,\n",
       " 110.14208577998811,\n",
       " 110.14208577998811,\n",
       " 110.14208577998811,\n",
       " 110.14208577998811,\n",
       " 110.14208577998811,\n",
       " 110.14208577998811,\n",
       " 110.14208577998811,\n",
       " 110.14208577998811,\n",
       " 110.14208577998811,\n",
       " 110.14208577998811,\n",
       " 110.14208577998811,\n",
       " 110.14208577998811,\n",
       " 110.14208577998811,\n",
       " 110.14208577998811,\n",
       " 110.14208577998811,\n",
       " 110.14208577998811,\n",
       " 110.14208577998811,\n",
       " 110.14208577998811,\n",
       " 110.14208577998811,\n",
       " 110.14208577998811,\n",
       " 110.14208577998811,\n",
       " 110.14208577998811,\n",
       " 110.14208577998811,\n",
       " 110.14208577998811,\n",
       " 110.14208577998811,\n",
       " 110.14208577998811,\n",
       " 110.14208577998811,\n",
       " 110.14208577998811,\n",
       " 110.14208577998811,\n",
       " 110.14208577998811,\n",
       " 110.14208577998811,\n",
       " 110.14208577998811,\n",
       " 110.14208577998811,\n",
       " 110.14208577998811,\n",
       " 110.14208577998811,\n",
       " 110.14208577998811,\n",
       " 110.14208577998811,\n",
       " 110.14208577998811,\n",
       " 110.14208577998811]"
      ]
     },
     "execution_count": 19,
     "metadata": {},
     "output_type": "execute_result"
    }
   ],
   "source": [
    "# Calculate the mean of the target variable\n",
    "mean_target = y_train.mean()\n",
    "\n",
    "# Create an array of predictions with the same length as the test set\n",
    "baseline_predictions = [mean_target] * len(X_train)\n",
    "baseline_predictions"
   ]
  },
  {
   "cell_type": "code",
   "execution_count": 20,
   "metadata": {},
   "outputs": [
    {
     "name": "stdout",
     "output_type": "stream",
     "text": [
      "MSE:333.0374996657257 RMSE:18.249315046481215\n"
     ]
    }
   ],
   "source": [
    "from sklearn.metrics import mean_squared_error\n",
    "# Calculate Mean Squared Error (MSE)\n",
    "mse = mean_squared_error(y_train, baseline_predictions)\n",
    "\n",
    "# Calculate Root Mean Squared Error (RMSE)\n",
    "rmse = np.sqrt(mse)\n",
    "print(f\"MSE:{mse} RMSE:{rmse}\")"
   ]
  },
  {
   "attachments": {},
   "cell_type": "markdown",
   "metadata": {},
   "source": [
    "### Random Forest Model"
   ]
  },
  {
   "cell_type": "code",
   "execution_count": 21,
   "metadata": {},
   "outputs": [
    {
     "name": "stdout",
     "output_type": "stream",
     "text": [
      "Train :  MSE: 0.18057697527454414 RMSE: 0.42494349656694846\n",
      "Test: MSE: 69.11949450255166 RMSE: 8.313813475328374\n"
     ]
    }
   ],
   "source": [
    "from sklearn.ensemble import RandomForestRegressor\n",
    "rf_model = RandomForestRegressor(n_estimators=100, random_state=0)\n",
    "rf_model.fit(X_train,y_train)\n",
    "train_pred = rf_model.predict(X_train)\n",
    "test_pred = rf_model.predict(X_test)\n",
    "\n",
    "mse1 = mean_squared_error(y_train, train_pred)\n",
    "mse2 = mean_squared_error(y_test, test_pred)\n",
    "                   \n",
    "rmse_rf = print(f'Train :  MSE: {mse1} RMSE: {np.sqrt(mse1)}')\n",
    "rmse_rf = print(f'Test: MSE: {mse2} RMSE: {np.sqrt(mse2)}')\n",
    "#print(f'Random Forest RMSE: {rmse_rf}')"
   ]
  },
  {
   "attachments": {},
   "cell_type": "markdown",
   "metadata": {},
   "source": [
    "### Regression Model"
   ]
  },
  {
   "cell_type": "code",
   "execution_count": 22,
   "metadata": {},
   "outputs": [
    {
     "name": "stdout",
     "output_type": "stream",
     "text": [
      "Train :  MSE: 160.0223610734115 RMSE: 12.649994508829302\n",
      "Test: MSE: 223.30613874232216 RMSE: 14.943431290781986\n"
     ]
    }
   ],
   "source": [
    "from sklearn.linear_model import LinearRegression\n",
    "linear_model = LinearRegression()\n",
    "linear_model.fit(X_train, y_train)\n",
    "train_pred = linear_model.predict(X_train)\n",
    "test_pred = linear_model.predict(X_test)\n",
    "\n",
    "mse1 = mean_squared_error(y_train, train_pred)\n",
    "mse2 = mean_squared_error(y_test, test_pred)\n",
    "                   \n",
    "rmse_rf = print(f'Train :  MSE: {mse1} RMSE: {np.sqrt(mse1)}')\n",
    "rmse_rf = print(f'Test: MSE: {mse2} RMSE: {np.sqrt(mse2)}')"
   ]
  },
  {
   "cell_type": "code",
   "execution_count": 23,
   "metadata": {},
   "outputs": [],
   "source": [
    "import pickle\n",
    "with open('model.pkl', 'wb') as file:\n",
    "    pickle.dump(linear_model, file)"
   ]
  },
  {
   "attachments": {},
   "cell_type": "markdown",
   "metadata": {},
   "source": [
    "### Prophet Model"
   ]
  },
  {
   "cell_type": "code",
   "execution_count": 24,
   "metadata": {},
   "outputs": [],
   "source": [
    "# Split the # Prophet requires that your DataFrame has two columns: 'ds' and 'y'\n",
    "# 'ds' should be a column of date or datetime values\n",
    "# 'y' should be a column of numeric values representing your target variable\n",
    "\n",
    "# data into training and testing sets\n",
    "from sklearn.model_selection import train_test_split\n",
    "X_train, X_test, y_train, y_test = train_test_split(train_df['Date'],train_df['Petrol (USD)'] , test_size=0.2, random_state=0)\n",
    "\n",
    "train_df = pd.DataFrame({'ds': X_train, 'y': y_train})\n",
    "test_df = pd.DataFrame({'ds': X_test, 'y': y_test})"
   ]
  },
  {
   "cell_type": "code",
   "execution_count": 25,
   "metadata": {},
   "outputs": [
    {
     "name": "stderr",
     "output_type": "stream",
     "text": [
      "11:20:29 - cmdstanpy - INFO - Chain [1] start processing\n",
      "11:20:29 - cmdstanpy - INFO - Chain [1] done processing\n"
     ]
    },
    {
     "data": {
      "text/plain": [
       "<prophet.forecaster.Prophet at 0x1e63ef2a770>"
      ]
     },
     "execution_count": 25,
     "metadata": {},
     "output_type": "execute_result"
    }
   ],
   "source": [
    "from prophet import Prophet\n",
    "from prophet.plot import plot_plotly, plot_components_plotly\n",
    "\n",
    "# Create Prophet model\n",
    "model = Prophet(growth='flat',interval_width=0.80, daily_seasonality=True)\n",
    "\n",
    "# Fit the model to the data\n",
    "model.fit(train_df)"
   ]
  },
  {
   "cell_type": "code",
   "execution_count": 26,
   "metadata": {},
   "outputs": [
    {
     "data": {
      "text/html": [
       "<div>\n",
       "<style scoped>\n",
       "    .dataframe tbody tr th:only-of-type {\n",
       "        vertical-align: middle;\n",
       "    }\n",
       "\n",
       "    .dataframe tbody tr th {\n",
       "        vertical-align: top;\n",
       "    }\n",
       "\n",
       "    .dataframe thead th {\n",
       "        text-align: right;\n",
       "    }\n",
       "</style>\n",
       "<table border=\"1\" class=\"dataframe\">\n",
       "  <thead>\n",
       "    <tr style=\"text-align: right;\">\n",
       "      <th></th>\n",
       "      <th>ds</th>\n",
       "      <th>yhat</th>\n",
       "    </tr>\n",
       "  </thead>\n",
       "  <tbody>\n",
       "    <tr>\n",
       "      <th>0</th>\n",
       "      <td>2003-06-16</td>\n",
       "      <td>111.272815</td>\n",
       "    </tr>\n",
       "    <tr>\n",
       "      <th>1</th>\n",
       "      <td>2003-06-23</td>\n",
       "      <td>112.544261</td>\n",
       "    </tr>\n",
       "    <tr>\n",
       "      <th>2</th>\n",
       "      <td>2003-07-14</td>\n",
       "      <td>110.494915</td>\n",
       "    </tr>\n",
       "    <tr>\n",
       "      <th>3</th>\n",
       "      <td>2003-08-04</td>\n",
       "      <td>108.687690</td>\n",
       "    </tr>\n",
       "    <tr>\n",
       "      <th>4</th>\n",
       "      <td>2003-08-18</td>\n",
       "      <td>109.994614</td>\n",
       "    </tr>\n",
       "    <tr>\n",
       "      <th>...</th>\n",
       "      <td>...</td>\n",
       "      <td>...</td>\n",
       "    </tr>\n",
       "    <tr>\n",
       "      <th>158</th>\n",
       "      <td>2018-07-23</td>\n",
       "      <td>108.628872</td>\n",
       "    </tr>\n",
       "    <tr>\n",
       "      <th>159</th>\n",
       "      <td>2018-07-30</td>\n",
       "      <td>108.432054</td>\n",
       "    </tr>\n",
       "    <tr>\n",
       "      <th>160</th>\n",
       "      <td>2018-10-29</td>\n",
       "      <td>108.948721</td>\n",
       "    </tr>\n",
       "    <tr>\n",
       "      <th>161</th>\n",
       "      <td>2018-11-12</td>\n",
       "      <td>107.961405</td>\n",
       "    </tr>\n",
       "    <tr>\n",
       "      <th>162</th>\n",
       "      <td>2018-12-24</td>\n",
       "      <td>107.974584</td>\n",
       "    </tr>\n",
       "  </tbody>\n",
       "</table>\n",
       "<p>163 rows × 2 columns</p>\n",
       "</div>"
      ],
      "text/plain": [
       "            ds        yhat\n",
       "0   2003-06-16  111.272815\n",
       "1   2003-06-23  112.544261\n",
       "2   2003-07-14  110.494915\n",
       "3   2003-08-04  108.687690\n",
       "4   2003-08-18  109.994614\n",
       "..         ...         ...\n",
       "158 2018-07-23  108.628872\n",
       "159 2018-07-30  108.432054\n",
       "160 2018-10-29  108.948721\n",
       "161 2018-11-12  107.961405\n",
       "162 2018-12-24  107.974584\n",
       "\n",
       "[163 rows x 2 columns]"
      ]
     },
     "execution_count": 26,
     "metadata": {},
     "output_type": "execute_result"
    }
   ],
   "source": [
    "prediction = model.predict(test_df)\n",
    "prediction[['ds','yhat']]"
   ]
  },
  {
   "cell_type": "code",
   "execution_count": 38,
   "metadata": {},
   "outputs": [
    {
     "name": "stdout",
     "output_type": "stream",
     "text": [
      "MSE:342.481691118613 RMSE:18.50626086270841\n"
     ]
    }
   ],
   "source": [
    "from sklearn.metrics import mean_squared_error\n",
    "# Calculate Mean Squared Error (MSE)\n",
    "mse = mean_squared_error(test_df['y'], prediction['yhat'])\n",
    "\n",
    "# Calculate Root Mean Squared Error (RMSE)\n",
    "rmse = np.sqrt(mse)\n",
    "print(f\"MSE:{mse} RMSE:{rmse}\")"
   ]
  },
  {
   "attachments": {},
   "cell_type": "markdown",
   "metadata": {},
   "source": [
    "### ARIMA Model"
   ]
  },
  {
   "cell_type": "code",
   "execution_count": 39,
   "metadata": {},
   "outputs": [
    {
     "data": {
      "text/plain": [
       "<AxesSubplot: >"
      ]
     },
     "execution_count": 39,
     "metadata": {},
     "output_type": "execute_result"
    },
    {
     "data": {
      "image/png": "[encoded data removed]",
      "text/plain": [
       "<Figure size 640x480 with 1 Axes>"
      ]
     },
     "metadata": {},
     "output_type": "display_data"
    }
   ],
   "source": [
    "train_df.plot()"
   ]
  },
  {
   "cell_type": "code",
   "execution_count": 40,
   "metadata": {},
   "outputs": [],
   "source": [
    "# ARIMA\n",
    "from statsmodels.tsa.arima_model import ARIMA"
   ]
  },
  {
   "cell_type": "code",
   "execution_count": 41,
   "metadata": {},
   "outputs": [],
   "source": [
    "test = pd.read_csv('test_data.csv')\n",
    "test['Date'] = pd.to_datetime(test['Date'],format='%d/%m/%Y')"
   ]
  },
  {
   "cell_type": "code",
   "execution_count": 43,
   "metadata": {},
   "outputs": [
    {
     "name": "stdout",
     "output_type": "stream",
     "text": [
      "MSE:342.481691118613 RMSE:18.50626086270841\n"
     ]
    }
   ],
   "source": [
    "# Calculate Mean Squared Error (MSE)\n",
    "mse = mean_squared_error(test_df['y'], prediction['yhat'])\n",
    "\n",
    "# Calculate Root Mean Squared Error (RMSE)\n",
    "rmse = np.sqrt(mse)\n",
    "print(f\"MSE:{mse} RMSE:{rmse}\")"
   ]
  },
  {
   "cell_type": "code",
   "execution_count": 44,
   "metadata": {},
   "outputs": [
    {
     "data": {
      "text/html": [
       "<div>\n",
       "<style scoped>\n",
       "    .dataframe tbody tr th:only-of-type {\n",
       "        vertical-align: middle;\n",
       "    }\n",
       "\n",
       "    .dataframe tbody tr th {\n",
       "        vertical-align: top;\n",
       "    }\n",
       "\n",
       "    .dataframe thead th {\n",
       "        text-align: right;\n",
       "    }\n",
       "</style>\n",
       "<table border=\"1\" class=\"dataframe\">\n",
       "  <thead>\n",
       "    <tr style=\"text-align: right;\">\n",
       "      <th></th>\n",
       "      <th>ds</th>\n",
       "      <th>yhat</th>\n",
       "    </tr>\n",
       "  </thead>\n",
       "  <tbody>\n",
       "    <tr>\n",
       "      <th>0</th>\n",
       "      <td>2019-01-01</td>\n",
       "      <td>80.788788</td>\n",
       "    </tr>\n",
       "    <tr>\n",
       "      <th>1</th>\n",
       "      <td>2019-02-01</td>\n",
       "      <td>106.250673</td>\n",
       "    </tr>\n",
       "    <tr>\n",
       "      <th>2</th>\n",
       "      <td>2019-03-01</td>\n",
       "      <td>108.250337</td>\n",
       "    </tr>\n",
       "    <tr>\n",
       "      <th>3</th>\n",
       "      <td>2019-04-01</td>\n",
       "      <td>108.561148</td>\n",
       "    </tr>\n",
       "    <tr>\n",
       "      <th>4</th>\n",
       "      <td>2019-05-01</td>\n",
       "      <td>138.548972</td>\n",
       "    </tr>\n",
       "    <tr>\n",
       "      <th>5</th>\n",
       "      <td>2019-06-01</td>\n",
       "      <td>112.079980</td>\n",
       "    </tr>\n",
       "    <tr>\n",
       "      <th>6</th>\n",
       "      <td>2019-07-01</td>\n",
       "      <td>113.218420</td>\n",
       "    </tr>\n",
       "    <tr>\n",
       "      <th>7</th>\n",
       "      <td>2019-08-01</td>\n",
       "      <td>108.151983</td>\n",
       "    </tr>\n",
       "    <tr>\n",
       "      <th>8</th>\n",
       "      <td>2019-09-01</td>\n",
       "      <td>111.674618</td>\n",
       "    </tr>\n",
       "    <tr>\n",
       "      <th>9</th>\n",
       "      <td>2019-10-01</td>\n",
       "      <td>83.821778</td>\n",
       "    </tr>\n",
       "    <tr>\n",
       "      <th>10</th>\n",
       "      <td>2019-11-01</td>\n",
       "      <td>108.101628</td>\n",
       "    </tr>\n",
       "    <tr>\n",
       "      <th>11</th>\n",
       "      <td>2019-12-01</td>\n",
       "      <td>108.992531</td>\n",
       "    </tr>\n",
       "    <tr>\n",
       "      <th>12</th>\n",
       "      <td>2020-01-01</td>\n",
       "      <td>132.455160</td>\n",
       "    </tr>\n",
       "    <tr>\n",
       "      <th>13</th>\n",
       "      <td>2020-02-01</td>\n",
       "      <td>106.292144</td>\n",
       "    </tr>\n",
       "    <tr>\n",
       "      <th>14</th>\n",
       "      <td>2020-03-01</td>\n",
       "      <td>108.434362</td>\n",
       "    </tr>\n",
       "    <tr>\n",
       "      <th>15</th>\n",
       "      <td>2020-04-01</td>\n",
       "      <td>134.015289</td>\n",
       "    </tr>\n",
       "  </tbody>\n",
       "</table>\n",
       "</div>"
      ],
      "text/plain": [
       "           ds        yhat\n",
       "0  2019-01-01   80.788788\n",
       "1  2019-02-01  106.250673\n",
       "2  2019-03-01  108.250337\n",
       "3  2019-04-01  108.561148\n",
       "4  2019-05-01  138.548972\n",
       "5  2019-06-01  112.079980\n",
       "6  2019-07-01  113.218420\n",
       "7  2019-08-01  108.151983\n",
       "8  2019-09-01  111.674618\n",
       "9  2019-10-01   83.821778\n",
       "10 2019-11-01  108.101628\n",
       "11 2019-12-01  108.992531\n",
       "12 2020-01-01  132.455160\n",
       "13 2020-02-01  106.292144\n",
       "14 2020-03-01  108.434362\n",
       "15 2020-04-01  134.015289"
      ]
     },
     "execution_count": 44,
     "metadata": {},
     "output_type": "execute_result"
    }
   ],
   "source": [
    "test_data = test.rename(columns={'Date':'ds'})\n",
    "prediction = model.predict(test_data)\n",
    "prediction[['ds', 'yhat']]"
   ]
  },
  {
   "cell_type": "code",
   "execution_count": 45,
   "metadata": {},
   "outputs": [
    {
     "data": {
      "application/vnd.plotly.v1+json": {
       "config": {
        "plotlyServerURL": "https://plot.ly"
       },
       "data": [
        {
         "marker": {
          "color": "black",
          "size": 4
         },
         "mode": "markers",
         "name": "Actual",
         "type": "scatter",
         "x": [
          "2003-06-09T00:00:00",
          "2003-06-30T00:00:00",
          "2003-07-07T00:00:00",
          "2003-07-21T00:00:00",
          "2003-07-28T00:00:00",
          "2003-08-11T00:00:00",
          "2003-08-26T00:00:00",
          "2003-09-01T00:00:00",
          "2003-09-08T00:00:00",
          "2003-09-22T00:00:00",
          "2003-09-29T00:00:00",
          "2003-10-06T00:00:00",
          "2003-10-20T00:00:00",
          "2003-10-27T00:00:00",
          "2003-11-03T00:00:00",
          "2003-11-10T00:00:00",
          "2003-11-17T00:00:00",
          "2003-11-24T00:00:00",
          "2003-12-01T00:00:00",
          "2003-12-08T00:00:00",
          "2003-12-22T00:00:00",
          "2003-12-29T00:00:00",
          "2004-01-05T00:00:00",
          "2004-01-19T00:00:00",
          "2004-01-26T00:00:00",
          "2004-02-02T00:00:00",
          "2004-02-09T00:00:00",
          "2004-02-16T00:00:00",
          "2004-02-23T00:00:00",
          "2004-03-01T00:00:00",
          "2004-03-22T00:00:00",
          "2004-03-29T00:00:00",
          "2004-04-05T00:00:00",
          "2004-04-12T00:00:00",
          "2004-04-19T00:00:00",
          "2004-04-26T00:00:00",
          "2004-05-04T00:00:00",
          "2004-05-10T00:00:00",
          "2004-05-31T00:00:00",
          "2004-06-07T00:00:00",
          "2004-06-14T00:00:00",
          "2004-06-21T00:00:00",
          "2004-07-05T00:00:00",
          "2004-07-12T00:00:00",
          "2004-07-19T00:00:00",
          "2004-07-26T00:00:00",
          "2004-08-02T00:00:00",
          "2004-08-09T00:00:00",
          "2004-08-16T00:00:00",
          "2004-08-23T00:00:00",
          "2004-08-31T00:00:00",
          "2004-09-06T00:00:00",
          "2004-09-13T00:00:00",
          "2004-09-20T00:00:00",
          "2004-10-04T00:00:00",
          "2004-10-11T00:00:00",
          "2004-10-25T00:00:00",
          "2004-11-01T00:00:00",
          "2004-11-08T00:00:00",
          "2004-11-22T00:00:00",
          "2004-12-06T00:00:00",
          "2004-12-20T00:00:00",
          "2004-12-27T00:00:00",
          "2005-01-03T00:00:00",
          "2005-01-10T00:00:00",
          "2005-01-17T00:00:00",
          "2005-01-31T00:00:00",
          "2005-02-07T00:00:00",
          "2005-02-14T00:00:00",
          "2005-02-21T00:00:00",
          "2005-02-28T00:00:00",
          "2005-03-07T00:00:00",
          "2005-03-14T00:00:00",
          "2005-03-21T00:00:00",
          "2005-03-28T00:00:00",
          "2005-04-04T00:00:00",
          "2005-04-11T00:00:00",
          "2005-04-18T00:00:00",
          "2005-04-25T00:00:00",
          "2005-05-02T00:00:00",
          "2005-05-09T00:00:00",
          "2005-05-23T00:00:00",
          "2005-06-06T00:00:00",
          "2005-06-13T00:00:00",
          "2005-06-20T00:00:00",
          "2005-06-27T00:00:00",
          "2005-07-04T00:00:00",
          "2005-07-11T00:00:00",
          "2005-07-18T00:00:00",
          "2005-07-25T00:00:00",
          "2005-08-01T00:00:00",
          "2005-08-15T00:00:00",
          "2005-08-22T00:00:00",
          "2005-09-05T00:00:00",
          "2005-09-12T00:00:00",
          "2005-09-19T00:00:00",
          "2005-09-26T00:00:00",
          "2005-10-03T00:00:00",
          "2005-10-17T00:00:00",
          "2005-10-24T00:00:00",
          "2005-11-07T00:00:00",
          "2005-11-14T00:00:00",
          "2005-11-21T00:00:00",
          "2005-11-28T00:00:00",
          "2005-12-05T00:00:00",
          "2005-12-12T00:00:00",
          "2005-12-19T00:00:00",
          "2005-12-26T00:00:00",
          "2006-01-02T00:00:00",
          "2006-01-09T00:00:00",
          "2006-01-16T00:00:00",
          "2006-01-23T00:00:00",
          "2006-01-30T00:00:00",
          "2006-02-06T00:00:00",
          "2006-02-13T00:00:00",
          "2006-02-20T00:00:00",
          "2006-03-13T00:00:00",
          "2006-03-20T00:00:00",
          "2006-04-03T00:00:00",
          "2006-04-10T00:00:00",
          "2006-04-18T00:00:00",
          "2006-04-24T00:00:00",
          "2006-05-08T00:00:00",
          "2006-05-15T00:00:00",
          "2006-05-22T00:00:00",
          "2006-05-29T00:00:00",
          "2006-06-05T00:00:00",
          "2006-06-19T00:00:00",
          "2006-06-26T00:00:00",
          "2006-07-03T00:00:00",
          "2006-07-10T00:00:00",
          "2006-07-17T00:00:00",
          "2006-07-31T00:00:00",
          "2006-08-07T00:00:00",
          "2006-08-14T00:00:00",
          "2006-08-21T00:00:00",
          "2006-08-28T00:00:00",
          "2006-09-04T00:00:00",
          "2006-09-11T00:00:00",
          "2006-09-18T00:00:00",
          "2006-09-25T00:00:00",
          "2006-10-02T00:00:00",
          "2006-10-09T00:00:00",
          "2006-10-16T00:00:00",
          "2006-10-30T00:00:00",
          "2006-11-06T00:00:00",
          "2006-11-13T00:00:00",
          "2006-11-27T00:00:00",
          "2006-12-04T00:00:00",
          "2006-12-11T00:00:00",
          "2006-12-18T00:00:00",
          "2006-12-25T00:00:00",
          "2007-01-01T00:00:00",
          "2007-01-08T00:00:00",
          "2007-01-15T00:00:00",
          "2007-01-22T00:00:00",
          "2007-01-29T00:00:00",
          "2007-02-05T00:00:00",
          "2007-02-12T00:00:00",
          "2007-02-19T00:00:00",
          "2007-02-26T00:00:00",
          "2007-03-12T00:00:00",
          "2007-03-19T00:00:00",
          "2007-03-26T00:00:00",
          "2007-04-02T00:00:00",
          "2007-04-10T00:00:00",
          "2007-04-16T00:00:00",
          "2007-04-30T00:00:00",
          "2007-05-14T00:00:00",
          "2007-05-28T00:00:00",
          "2007-06-04T00:00:00",
          "2007-06-11T00:00:00",
          "2007-06-18T00:00:00",
          "2007-06-25T00:00:00",
          "2007-07-09T00:00:00",
          "2007-07-16T00:00:00",
          "2007-07-23T00:00:00",
          "2007-07-30T00:00:00",
          "2007-08-06T00:00:00",
          "2007-08-13T00:00:00",
          "2007-08-20T00:00:00",
          "2007-08-27T00:00:00",
          "2007-09-03T00:00:00",
          "2007-09-10T00:00:00",
          "2007-09-17T00:00:00",
          "2007-10-01T00:00:00",
          "2007-10-08T00:00:00",
          "2007-10-15T00:00:00",
          "2007-10-22T00:00:00",
          "2007-10-29T00:00:00",
          "2007-11-05T00:00:00",
          "2007-11-12T00:00:00",
          "2007-12-03T00:00:00",
          "2007-12-10T00:00:00",
          "2007-12-17T00:00:00",
          "2008-01-07T00:00:00",
          "2008-01-14T00:00:00",
          "2008-01-21T00:00:00",
          "2008-02-18T00:00:00",
          "2008-02-25T00:00:00",
          "2008-03-03T00:00:00",
          "2008-03-10T00:00:00",
          "2008-03-24T00:00:00",
          "2008-04-07T00:00:00",
          "2008-04-21T00:00:00",
          "2008-04-28T00:00:00",
          "2008-05-05T00:00:00",
          "2008-05-12T00:00:00",
          "2008-05-19T00:00:00",
          "2008-05-26T00:00:00",
          "2008-06-09T00:00:00",
          "2008-06-16T00:00:00",
          "2008-06-30T00:00:00",
          "2008-07-07T00:00:00",
          "2008-07-14T00:00:00",
          "2008-07-21T00:00:00",
          "2008-08-11T00:00:00",
          "2008-08-18T00:00:00",
          "2008-09-08T00:00:00",
          "2008-09-15T00:00:00",
          "2008-09-22T00:00:00",
          "2008-09-29T00:00:00",
          "2008-10-06T00:00:00",
          "2008-10-13T00:00:00",
          "2008-10-20T00:00:00",
          "2008-10-27T00:00:00",
          "2008-11-03T00:00:00",
          "2008-11-10T00:00:00",
          "2008-11-17T00:00:00",
          "2008-11-24T00:00:00",
          "2008-12-01T00:00:00",
          "2008-12-15T00:00:00",
          "2008-12-22T00:00:00",
          "2008-12-29T00:00:00",
          "2009-01-05T00:00:00",
          "2009-01-12T00:00:00",
          "2009-01-19T00:00:00",
          "2009-01-26T00:00:00",
          "2009-02-02T00:00:00",
          "2009-02-09T00:00:00",
          "2009-02-16T00:00:00",
          "2009-02-23T00:00:00",
          "2009-03-02T00:00:00",
          "2009-03-09T00:00:00",
          "2009-03-16T00:00:00",
          "2009-03-23T00:00:00",
          "2009-04-06T00:00:00",
          "2009-04-13T00:00:00",
          "2009-04-20T00:00:00",
          "2009-04-27T00:00:00",
          "2009-05-11T00:00:00",
          "2009-05-18T00:00:00",
          "2009-05-25T00:00:00",
          "2009-06-01T00:00:00",
          "2009-06-08T00:00:00",
          "2009-06-15T00:00:00",
          "2009-06-22T00:00:00",
          "2009-06-29T00:00:00",
          "2009-07-06T00:00:00",
          "2009-07-13T00:00:00",
          "2009-07-20T00:00:00",
          "2009-08-03T00:00:00",
          "2009-08-10T00:00:00",
          "2009-08-17T00:00:00",
          "2009-08-24T00:00:00",
          "2009-08-31T00:00:00",
          "2009-09-07T00:00:00",
          "2009-09-14T00:00:00",
          "2009-09-21T00:00:00",
          "2009-09-28T00:00:00",
          "2009-10-05T00:00:00",
          "2009-10-12T00:00:00",
          "2009-10-19T00:00:00",
          "2009-11-02T00:00:00",
          "2009-11-09T00:00:00",
          "2009-11-16T00:00:00",
          "2009-11-23T00:00:00",
          "2009-11-30T00:00:00",
          "2009-12-14T00:00:00",
          "2009-12-21T00:00:00",
          "2009-12-28T00:00:00",
          "2010-01-04T00:00:00",
          "2010-01-11T00:00:00",
          "2010-01-18T00:00:00",
          "2010-01-25T00:00:00",
          "2010-02-01T00:00:00",
          "2010-02-15T00:00:00",
          "2010-02-22T00:00:00",
          "2010-03-01T00:00:00",
          "2010-03-08T00:00:00",
          "2010-03-29T00:00:00",
          "2010-04-05T00:00:00",
          "2010-04-12T00:00:00",
          "2010-04-19T00:00:00",
          "2010-04-26T00:00:00",
          "2010-05-10T00:00:00",
          "2010-05-17T00:00:00",
          "2010-05-24T00:00:00",
          "2010-05-31T00:00:00",
          "2010-06-07T00:00:00",
          "2010-06-14T00:00:00",
          "2010-06-21T00:00:00",
          "2010-06-28T00:00:00",
          "2010-07-05T00:00:00",
          "2010-07-12T00:00:00",
          "2010-07-19T00:00:00",
          "2010-07-26T00:00:00",
          "2010-08-02T00:00:00",
          "2010-08-09T00:00:00",
          "2010-08-16T00:00:00",
          "2010-08-30T00:00:00",
          "2010-09-06T00:00:00",
          "2010-09-13T00:00:00",
          "2010-09-20T00:00:00",
          "2010-09-27T00:00:00",
          "2010-10-11T00:00:00",
          "2010-10-18T00:00:00",
          "2010-10-25T00:00:00",
          "2010-11-01T00:00:00",
          "2010-11-08T00:00:00",
          "2010-11-22T00:00:00",
          "2010-11-29T00:00:00",
          "2010-12-20T00:00:00",
          "2010-12-27T00:00:00",
          "2011-01-03T00:00:00",
          "2011-01-10T00:00:00",
          "2011-01-24T00:00:00",
          "2011-01-31T00:00:00",
          "2011-02-07T00:00:00",
          "2011-02-14T00:00:00",
          "2011-02-21T00:00:00",
          "2011-03-28T00:00:00",
          "2011-04-04T00:00:00",
          "2011-04-11T00:00:00",
          "2011-04-18T00:00:00",
          "2011-04-25T00:00:00",
          "2011-05-02T00:00:00",
          "2011-05-09T00:00:00",
          "2011-05-30T00:00:00",
          "2011-06-20T00:00:00",
          "2011-06-27T00:00:00",
          "2011-07-04T00:00:00",
          "2011-07-11T00:00:00",
          "2011-07-18T00:00:00",
          "2011-07-25T00:00:00",
          "2011-08-01T00:00:00",
          "2011-08-22T00:00:00",
          "2011-08-29T00:00:00",
          "2011-09-05T00:00:00",
          "2011-09-12T00:00:00",
          "2011-09-19T00:00:00",
          "2011-09-26T00:00:00",
          "2011-10-10T00:00:00",
          "2011-10-17T00:00:00",
          "2011-10-24T00:00:00",
          "2011-11-07T00:00:00",
          "2011-11-14T00:00:00",
          "2011-11-21T00:00:00",
          "2011-12-12T00:00:00",
          "2011-12-26T00:00:00",
          "2012-01-02T00:00:00",
          "2012-01-09T00:00:00",
          "2012-01-23T00:00:00",
          "2012-01-30T00:00:00",
          "2012-02-06T00:00:00",
          "2012-03-05T00:00:00",
          "2012-03-12T00:00:00",
          "2012-04-09T00:00:00",
          "2012-04-16T00:00:00",
          "2012-04-23T00:00:00",
          "2012-05-07T00:00:00",
          "2012-05-14T00:00:00",
          "2012-05-21T00:00:00",
          "2012-05-28T00:00:00",
          "2012-06-04T00:00:00",
          "2012-06-11T00:00:00",
          "2012-06-18T00:00:00",
          "2012-06-25T00:00:00",
          "2012-07-09T00:00:00",
          "2012-07-16T00:00:00",
          "2012-07-30T00:00:00",
          "2012-08-27T00:00:00",
          "2012-09-03T00:00:00",
          "2012-09-17T00:00:00",
          "2012-09-24T00:00:00",
          "2012-10-01T00:00:00",
          "2012-10-15T00:00:00",
          "2012-10-29T00:00:00",
          "2012-11-05T00:00:00",
          "2012-11-26T00:00:00",
          "2012-12-03T00:00:00",
          "2012-12-10T00:00:00",
          "2012-12-17T00:00:00",
          "2012-12-24T00:00:00",
          "2012-12-31T00:00:00",
          "2013-01-07T00:00:00",
          "2013-01-14T00:00:00",
          "2013-01-21T00:00:00",
          "2013-01-28T00:00:00",
          "2013-02-11T00:00:00",
          "2013-02-18T00:00:00",
          "2013-02-25T00:00:00",
          "2013-03-04T00:00:00",
          "2013-03-11T00:00:00",
          "2013-03-18T00:00:00",
          "2013-03-25T00:00:00",
          "2013-04-01T00:00:00",
          "2013-04-08T00:00:00",
          "2013-04-15T00:00:00",
          "2013-04-22T00:00:00",
          "2013-04-29T00:00:00",
          "2013-05-06T00:00:00",
          "2013-05-13T00:00:00",
          "2013-05-20T00:00:00",
          "2013-05-27T00:00:00",
          "2013-06-03T00:00:00",
          "2013-06-10T00:00:00",
          "2013-06-24T00:00:00",
          "2013-07-01T00:00:00",
          "2013-07-08T00:00:00",
          "2013-07-15T00:00:00",
          "2013-08-05T00:00:00",
          "2013-08-12T00:00:00",
          "2013-08-19T00:00:00",
          "2013-08-28T00:00:00",
          "2013-09-02T00:00:00",
          "2013-09-09T00:00:00",
          "2013-09-16T00:00:00",
          "2013-09-23T00:00:00",
          "2013-09-30T00:00:00",
          "2013-10-07T00:00:00",
          "2013-10-14T00:00:00",
          "2013-10-21T00:00:00",
          "2013-10-28T00:00:00",
          "2013-11-04T00:00:00",
          "2013-11-11T00:00:00",
          "2013-11-18T00:00:00",
          "2013-11-25T00:00:00",
          "2013-12-02T00:00:00",
          "2013-12-09T00:00:00",
          "2013-12-16T00:00:00",
          "2013-12-23T00:00:00",
          "2013-12-30T00:00:00",
          "2014-01-06T00:00:00",
          "2014-01-13T00:00:00",
          "2014-01-20T00:00:00",
          "2014-02-03T00:00:00",
          "2014-02-10T00:00:00",
          "2014-02-17T00:00:00",
          "2014-02-24T00:00:00",
          "2014-03-03T00:00:00",
          "2014-03-10T00:00:00",
          "2014-03-17T00:00:00",
          "2014-03-24T00:00:00",
          "2014-03-31T00:00:00",
          "2014-04-07T00:00:00",
          "2014-04-21T00:00:00",
          "2014-04-28T00:00:00",
          "2014-05-05T00:00:00",
          "2014-05-12T00:00:00",
          "2014-06-02T00:00:00",
          "2014-06-09T00:00:00",
          "2014-06-16T00:00:00",
          "2014-06-23T00:00:00",
          "2014-06-30T00:00:00",
          "2014-07-07T00:00:00",
          "2014-07-14T00:00:00",
          "2014-07-28T00:00:00",
          "2014-08-11T00:00:00",
          "2014-08-25T00:00:00",
          "2014-09-01T00:00:00",
          "2014-09-08T00:00:00",
          "2014-10-06T00:00:00",
          "2014-10-20T00:00:00",
          "2014-10-27T00:00:00",
          "2014-11-03T00:00:00",
          "2014-11-10T00:00:00",
          "2014-11-17T00:00:00",
          "2014-11-24T00:00:00",
          "2014-12-01T00:00:00",
          "2014-12-08T00:00:00",
          "2014-12-15T00:00:00",
          "2014-12-22T00:00:00",
          "2014-12-29T00:00:00",
          "2015-01-05T00:00:00",
          "2015-01-19T00:00:00",
          "2015-01-26T00:00:00",
          "2015-02-02T00:00:00",
          "2015-02-09T00:00:00",
          "2015-02-16T00:00:00",
          "2015-03-02T00:00:00",
          "2015-03-09T00:00:00",
          "2015-03-16T00:00:00",
          "2015-03-30T00:00:00",
          "2015-04-06T00:00:00",
          "2015-04-13T00:00:00",
          "2015-04-20T00:00:00",
          "2015-05-04T00:00:00",
          "2015-05-11T00:00:00",
          "2015-05-18T00:00:00",
          "2015-05-25T00:00:00",
          "2015-06-01T00:00:00",
          "2015-06-08T00:00:00",
          "2015-06-15T00:00:00",
          "2015-06-22T00:00:00",
          "2015-07-06T00:00:00",
          "2015-07-13T00:00:00",
          "2015-07-27T00:00:00",
          "2015-08-03T00:00:00",
          "2015-08-10T00:00:00",
          "2015-08-17T00:00:00",
          "2015-08-31T00:00:00",
          "2015-09-07T00:00:00",
          "2015-09-14T00:00:00",
          "2015-09-21T00:00:00",
          "2015-09-28T00:00:00",
          "2015-10-05T00:00:00",
          "2015-10-26T00:00:00",
          "2015-11-02T00:00:00",
          "2015-11-09T00:00:00",
          "2015-11-16T00:00:00",
          "2015-12-14T00:00:00",
          "2015-12-21T00:00:00",
          "2015-12-28T00:00:00",
          "2016-01-04T00:00:00",
          "2016-01-18T00:00:00",
          "2016-01-25T00:00:00",
          "2016-02-01T00:00:00",
          "2016-02-08T00:00:00",
          "2016-02-15T00:00:00",
          "2016-02-22T00:00:00",
          "2016-03-07T00:00:00",
          "2016-03-14T00:00:00",
          "2016-03-21T00:00:00",
          "2016-03-28T00:00:00",
          "2016-04-11T00:00:00",
          "2016-05-02T00:00:00",
          "2016-05-09T00:00:00",
          "2016-05-16T00:00:00",
          "2016-05-23T00:00:00",
          "2016-05-30T00:00:00",
          "2016-06-06T00:00:00",
          "2016-06-13T00:00:00",
          "2016-06-20T00:00:00",
          "2016-06-27T00:00:00",
          "2016-07-04T00:00:00",
          "2016-07-11T00:00:00",
          "2016-07-18T00:00:00",
          "2016-07-25T00:00:00",
          "2016-08-01T00:00:00",
          "2016-08-15T00:00:00",
          "2016-08-22T00:00:00",
          "2016-08-29T00:00:00",
          "2016-09-05T00:00:00",
          "2016-09-12T00:00:00",
          "2016-09-19T00:00:00",
          "2016-09-26T00:00:00",
          "2016-10-03T00:00:00",
          "2016-10-10T00:00:00",
          "2016-10-31T00:00:00",
          "2016-11-14T00:00:00",
          "2016-11-28T00:00:00",
          "2016-12-05T00:00:00",
          "2016-12-12T00:00:00",
          "2016-12-19T00:00:00",
          "2016-12-26T00:00:00",
          "2017-01-02T00:00:00",
          "2017-01-09T00:00:00",
          "2017-01-16T00:00:00",
          "2017-01-23T00:00:00",
          "2017-01-30T00:00:00",
          "2017-02-06T00:00:00",
          "2017-02-20T00:00:00",
          "2017-02-27T00:00:00",
          "2017-03-06T00:00:00",
          "2017-03-20T00:00:00",
          "2017-03-27T00:00:00",
          "2017-04-03T00:00:00",
          "2017-04-17T00:00:00",
          "2017-04-24T00:00:00",
          "2017-05-01T00:00:00",
          "2017-05-08T00:00:00",
          "2017-05-15T00:00:00",
          "2017-06-05T00:00:00",
          "2017-06-12T00:00:00",
          "2017-06-19T00:00:00",
          "2017-06-26T00:00:00",
          "2017-07-03T00:00:00",
          "2017-07-24T00:00:00",
          "2017-07-31T00:00:00",
          "2017-08-07T00:00:00",
          "2017-08-14T00:00:00",
          "2017-08-21T00:00:00",
          "2017-08-28T00:00:00",
          "2017-09-11T00:00:00",
          "2017-09-18T00:00:00",
          "2017-09-25T00:00:00",
          "2017-10-09T00:00:00",
          "2017-10-16T00:00:00",
          "2017-11-20T00:00:00",
          "2017-11-27T00:00:00",
          "2017-12-04T00:00:00",
          "2017-12-11T00:00:00",
          "2017-12-18T00:00:00",
          "2017-12-25T00:00:00",
          "2018-01-01T00:00:00",
          "2018-01-15T00:00:00",
          "2018-01-22T00:00:00",
          "2018-01-29T00:00:00",
          "2018-02-05T00:00:00",
          "2018-02-12T00:00:00",
          "2018-02-26T00:00:00",
          "2018-03-05T00:00:00",
          "2018-03-12T00:00:00",
          "2018-03-19T00:00:00",
          "2018-03-26T00:00:00",
          "2018-04-02T00:00:00",
          "2018-04-16T00:00:00",
          "2018-04-23T00:00:00",
          "2018-04-30T00:00:00",
          "2018-05-14T00:00:00",
          "2018-05-28T00:00:00",
          "2018-06-04T00:00:00",
          "2018-06-11T00:00:00",
          "2018-06-18T00:00:00",
          "2018-06-25T00:00:00",
          "2018-07-02T00:00:00",
          "2018-07-09T00:00:00",
          "2018-07-16T00:00:00",
          "2018-08-06T00:00:00",
          "2018-08-13T00:00:00",
          "2018-08-20T00:00:00",
          "2018-08-27T00:00:00",
          "2018-09-03T00:00:00",
          "2018-09-10T00:00:00",
          "2018-09-17T00:00:00",
          "2018-09-24T00:00:00",
          "2018-10-01T00:00:00",
          "2018-10-08T00:00:00",
          "2018-10-15T00:00:00",
          "2018-10-22T00:00:00",
          "2018-11-05T00:00:00",
          "2018-11-19T00:00:00",
          "2018-11-26T00:00:00",
          "2018-12-03T00:00:00",
          "2018-12-10T00:00:00",
          "2018-12-17T00:00:00",
          "2018-12-31T00:00:00"
         ],
         "y": [
          81.48650729570971,
          81.48650729570971,
          81.48650729570971,
          81.48650729570971,
          81.48650729570971,
          81.48650729570971,
          81.48650729570971,
          81.48650729570971,
          81.48650729570971,
          81.48650729570971,
          81.48650729570971,
          81.48650729570971,
          81.48650729570971,
          81.48650729570971,
          81.48650729570971,
          81.48650729570971,
          81.48650729570971,
          81.48650729570971,
          81.48650729570971,
          81.48650729570971,
          81.48650729570971,
          81.48650729570971,
          81.48650729570971,
          81.48650729570971,
          81.48650729570971,
          81.48650729570971,
          81.48650729570971,
          81.48650729570971,
          81.48650729570971,
          81.48650729570971,
          81.48650729570971,
          81.48650729570971,
          81.48650729570971,
          81.48650729570971,
          81.48650729570971,
          81.48650729570971,
          81.48650729570971,
          81.48650729570971,
          82.35,
          82.44,
          81.54,
          81.48650729570971,
          81.48650729570971,
          81.48650729570971,
          81.48650729570971,
          81.48650729570971,
          81.48650729570971,
          81.48650729570971,
          81.48650729570971,
          81.51,
          81.53,
          81.48650729570971,
          81.48650729570971,
          81.48650729570971,
          82.05,
          83.11,
          83.94,
          84.27,
          84.34,
          81.48650729570971,
          84.06,
          81.48650729570971,
          81.48650729570971,
          81.48650729570971,
          81.48650729570971,
          81.48650729570971,
          81.48650729570971,
          81.48650729570971,
          81.48650729570971,
          81.48650729570971,
          81.48650729570971,
          81.48650729570971,
          81.64,
          82.7,
          83.4,
          83.91,
          85.61,
          85.63,
          85.51,
          85.44,
          85.36,
          84.77,
          84.01,
          84.99,
          85.52,
          86.73,
          87.49,
          87.73,
          88.55,
          89,
          89.25,
          90.56,
          90.77,
          94.37,
          95.07,
          94.41,
          93.33,
          93.51,
          94.14,
          93.47,
          92.47,
          90.53,
          88.61,
          87.35,
          87.35,
          87.2,
          87.56,
          87.88,
          88.03,
          88.56,
          89.01,
          89.55,
          89.88,
          89.73,
          89.65,
          89.6,
          89.55,
          90.19,
          91.78,
          92.77,
          94.23,
          95.35,
          96.46,
          96.39,
          96.1,
          95.36,
          95.24,
          95.44,
          94.97,
          95.27,
          95.69,
          96.88,
          97.83,
          98.05,
          97.82,
          95.74,
          94.4,
          92.88,
          91.48,
          89.78,
          88.2,
          86.95,
          86.6,
          85.91,
          85.6,
          85.54,
          85.49,
          85.47,
          85.46,
          87.44,
          87.7,
          87.9,
          87.85,
          87.66,
          87.1,
          86.28,
          85.66,
          85.62,
          86.12,
          86.6,
          87.07,
          88.48,
          88.93,
          89.32,
          90.47,
          91.18,
          91.99,
          93.45,
          95.07,
          96.16,
          96.51,
          96.61,
          96.56,
          96.54,
          96.2,
          96.21,
          96.23,
          96.2,
          96.15,
          96,
          95.31,
          95,
          94.8,
          94.63,
          94.65,
          96.39,
          97.14,
          97.19,
          97.81,
          98.26,
          99.36,
          100.74,
          102.58,
          102.67,
          102.6,
          103.37,
          103.82,
          104.22,
          103.7,
          104.65,
          105.24,
          105.96,
          106.9,
          107.24,
          108.57,
          109.5,
          110.3,
          111.04,
          112.96,
          114.79,
          116.86,
          117.69,
          118.84,
          119.28,
          119.44,
          119.4,
          113.92,
          112.22,
          112.55,
          112.51,
          110.81,
          109.85,
          109.45,
          107.04,
          102.66,
          98.62,
          97.4,
          95.89,
          94.83,
          92.79,
          91.47,
          89.07,
          88.01,
          87.34,
          85.42,
          86.02,
          86.19,
          87.42,
          88.16,
          89.28,
          90.12,
          90.33,
          90.28,
          90.15,
          90.16,
          90.16,
          93.72,
          94.11,
          94.62,
          95.13,
          96.59,
          97.54,
          98.9,
          99.39,
          100.59,
          101.98,
          102.81,
          103.3,
          103.57,
          102.78,
          102.22,
          102.36,
          103.01,
          103.96,
          104.7,
          105.11,
          106.85,
          106.43,
          105.96,
          105.44,
          104.87,
          104.71,
          105.08,
          107.43,
          108.1,
          108.48,
          108.73,
          108.79,
          108.5,
          107.47,
          107.44,
          109.34,
          110.72,
          111.6,
          111.87,
          111.91,
          111.89,
          111.56,
          112.42,
          113.71,
          117.28,
          119.29,
          119.94,
          120.55,
          120.99,
          121.31,
          121.3,
          119.93,
          118.54,
          118.2,
          117.87,
          117.8,
          117.88,
          117.91,
          117.39,
          116.85,
          116.61,
          116.51,
          116.35,
          116.34,
          114.98,
          114.59,
          114.66,
          115.06,
          115.39,
          116.78,
          117.28,
          117.74,
          118.18,
          118.67,
          118.99,
          119.21,
          122.31,
          123.44,
          124.85,
          127.4,
          128.35,
          128.55,
          128.64,
          128.73,
          128.92,
          132.44,
          132.81,
          133.68,
          135.06,
          135.62,
          136.29,
          137.05,
          135.57,
          136.03,
          134.86,
          133.43,
          134.18,
          134.97,
          135.66,
          136.07,
          134.56,
          134.32,
          134.62,
          135,
          135.4,
          135.65,
          134.47,
          134.49,
          134.66,
          134.41,
          133.68,
          133.38,
          132.53,
          132.41,
          132.4,
          132.68,
          133.72,
          134.1,
          134.25,
          137.3,
          137.9,
          139.174454479876,
          139.174454479876,
          139.174454479876,
          139.174454479876,
          138.29,
          135.77,
          134.37,
          134.06,
          133.67,
          131.99,
          131.55,
          131.06,
          131.49,
          132.78,
          137.1,
          138.03,
          139.174454479876,
          139.174454479876,
          138.43,
          138.35,
          136.98,
          136.43,
          134.38,
          133.05,
          132.55,
          131.98,
          131.95,
          131.92,
          131.86,
          132,
          132.21,
          132.95,
          135.56,
          136.86,
          138.5,
          139.174454479876,
          139.174454479876,
          137.58,
          137.09,
          137.3,
          137.31,
          137.11,
          135.68,
          134.66,
          133.42,
          133.12,
          133.17,
          133.64,
          134.04,
          134.3,
          134.52,
          133.44,
          133.77,
          134.95,
          137.02,
          137.13,
          137,
          136.83,
          137.14,
          137.6,
          137.47,
          136.95,
          133.4,
          131.62,
          131.67,
          131.53,
          131.42,
          129.92,
          129.71,
          129.89,
          130.03,
          130.25,
          130.76,
          130.96,
          130.05,
          130.03,
          130.26,
          130.36,
          129.37,
          128.85,
          128.81,
          129.16,
          129.2,
          129.36,
          129.39,
          128.76,
          128.57,
          128.76,
          128.71,
          129.11,
          129.09,
          129.27,
          129.5,
          129.63,
          129.69,
          129.88,
          130.14,
          130.69,
          131.1,
          131.11,
          130.83,
          129.41,
          128.34,
          128.01,
          128.34,
          126.78,
          125.4,
          125.11,
          123.94,
          122.94,
          122.5,
          122.29,
          121.18,
          119.83,
          116.3,
          113.66,
          113.16,
          111.06,
          106.83,
          106.32,
          106.04,
          106.35,
          107.26,
          109.2,
          110.07,
          111.04,
          112.06,
          112.37,
          112.52,
          112.87,
          114.27,
          115.1,
          115.74,
          116.02,
          116.13,
          116.26,
          116.39,
          116.6,
          116.34,
          116.41,
          116.44,
          116.12,
          115.48,
          114.58,
          111.21,
          110.9,
          110.6,
          110.61,
          109.47,
          108.94,
          108.04,
          107.21,
          107.14,
          107.36,
          104,
          102.33,
          102.11,
          102,
          101.8,
          101.42,
          101.36,
          101.51,
          101.45,
          101.39,
          101.46,
          101.71,
          102.58,
          103.4,
          105.39,
          107.82,
          108.19,
          108.53,
          109.12,
          109.79,
          110.4,
          111.03,
          111.22,
          111.44,
          111.65,
          111.89,
          111.92,
          111.69,
          111.05,
          109.28,
          109.63,
          110.43,
          110.97,
          111.31,
          111.29,
          111.36,
          111.65,
          112.35,
          116.02,
          116.5,
          113.72,
          113.66,
          114.23,
          115,
          115.45,
          117,
          117.98,
          118.63,
          119.43,
          120.01,
          120.18,
          120.2,
          120.12,
          120.02,
          118.95,
          118.03,
          116.93,
          117.54,
          118.15,
          118.08,
          117.06,
          115.6,
          115.82,
          115.69,
          115.12,
          114.43,
          113.74,
          113.99,
          114.16,
          114.78,
          115.53,
          116.04,
          116.4,
          118.14,
          118.85,
          118.87,
          117.16,
          117.01,
          119.67,
          120.13,
          119.75,
          119.91,
          119.98,
          120,
          120.19,
          120.96,
          121.5,
          121.69,
          121.73,
          121.58,
          119.55,
          119.29,
          119.11,
          119.17,
          119.23,
          119.43,
          120.56,
          121.44,
          122.22,
          124.32,
          127.58,
          128.43,
          128.61,
          127.92,
          127.18,
          126.54,
          126.97,
          127.47,
          128.02,
          128.39,
          128.79,
          129.18,
          129.76,
          130.24,
          130.59,
          130.59,
          129.98,
          130.15,
          130.81,
          130.98,
          130.11,
          127.4,
          125.77,
          124.3,
          122.37,
          121.02,
          120.18
         ]
        },
        {
         "hoverinfo": "skip",
         "line": {
          "width": 0
         },
         "mode": "lines",
         "type": "scatter",
         "x": [
          "2019-01-01T00:00:00",
          "2019-02-01T00:00:00",
          "2019-03-01T00:00:00",
          "2019-04-01T00:00:00",
          "2019-05-01T00:00:00",
          "2019-06-01T00:00:00",
          "2019-07-01T00:00:00",
          "2019-08-01T00:00:00",
          "2019-09-01T00:00:00",
          "2019-10-01T00:00:00",
          "2019-11-01T00:00:00",
          "2019-12-01T00:00:00",
          "2020-01-01T00:00:00",
          "2020-02-01T00:00:00",
          "2020-03-01T00:00:00",
          "2020-04-01T00:00:00"
         ],
         "y": [
          56.67474946405023,
          84.20537568689527,
          85.99465501442371,
          84.97816356059874,
          115.38925783546054,
          89.32153302697641,
          90.87539166912805,
          85.18269279598779,
          89.4241658337933,
          60.398311245465194,
          84.75104005573856,
          86.14346418361652,
          108.62185597210271,
          84.39409169385051,
          84.79016243063117,
          110.45068906625795
         ]
        },
        {
         "fill": "tonexty",
         "fillcolor": "rgba(0, 114, 178, 0.2)",
         "line": {
          "color": "#0072B2",
          "width": 2
         },
         "mode": "lines",
         "name": "Predicted",
         "type": "scatter",
         "x": [
          "2019-01-01T00:00:00",
          "2019-02-01T00:00:00",
          "2019-03-01T00:00:00",
          "2019-04-01T00:00:00",
          "2019-05-01T00:00:00",
          "2019-06-01T00:00:00",
          "2019-07-01T00:00:00",
          "2019-08-01T00:00:00",
          "2019-09-01T00:00:00",
          "2019-10-01T00:00:00",
          "2019-11-01T00:00:00",
          "2019-12-01T00:00:00",
          "2020-01-01T00:00:00",
          "2020-02-01T00:00:00",
          "2020-03-01T00:00:00",
          "2020-04-01T00:00:00"
         ],
         "y": [
          80.78878829350657,
          106.25067251289926,
          108.25033743231185,
          108.56114786071008,
          138.54897161386452,
          112.07998016910676,
          113.21842027872071,
          108.15198265864811,
          111.67461798944815,
          83.82177843771646,
          108.10162800773537,
          108.99253130515606,
          132.4551595898596,
          106.29214427472203,
          108.4343624775697,
          134.01528868806108
         ]
        },
        {
         "fill": "tonexty",
         "fillcolor": "rgba(0, 114, 178, 0.2)",
         "hoverinfo": "skip",
         "line": {
          "width": 0
         },
         "mode": "lines",
         "type": "scatter",
         "x": [
          "2019-01-01T00:00:00",
          "2019-02-01T00:00:00",
          "2019-03-01T00:00:00",
          "2019-04-01T00:00:00",
          "2019-05-01T00:00:00",
          "2019-06-01T00:00:00",
          "2019-07-01T00:00:00",
          "2019-08-01T00:00:00",
          "2019-09-01T00:00:00",
          "2019-10-01T00:00:00",
          "2019-11-01T00:00:00",
          "2019-12-01T00:00:00",
          "2020-01-01T00:00:00",
          "2020-02-01T00:00:00",
          "2020-03-01T00:00:00",
          "2020-04-01T00:00:00"
         ],
         "y": [
          104.75552699943484,
          130.44342469992066,
          130.74646895197856,
          132.06509146107678,
          161.46954413475012,
          136.16537926411434,
          135.8926667536567,
          132.46670746668684,
          134.4852281868299,
          108.0440291443317,
          130.92057564546573,
          131.78812143319007,
          156.9475146042773,
          128.6829366024588,
          133.34183650803703,
          156.0940505581761
         ]
        }
       ],
       "layout": {
        "height": 600,
        "showlegend": false,
        "template": {
         "data": {
          "bar": [
           {
            "error_x": {
             "color": "#2a3f5f"
            },
            "error_y": {
             "color": "#2a3f5f"
            },
            "marker": {
             "line": {
              "color": "#E5ECF6",
              "width": 0.5
             },
             "pattern": {
              "fillmode": "overlay",
              "size": 10,
              "solidity": 0.2
             }
            },
            "type": "bar"
           }
          ],
          "barpolar": [
           {
            "marker": {
             "line": {
              "color": "#E5ECF6",
              "width": 0.5
             },
             "pattern": {
              "fillmode": "overlay",
              "size": 10,
              "solidity": 0.2
             }
            },
            "type": "barpolar"
           }
          ],
          "carpet": [
           {
            "aaxis": {
             "endlinecolor": "#2a3f5f",
             "gridcolor": "white",
             "linecolor": "white",
             "minorgridcolor": "white",
             "startlinecolor": "#2a3f5f"
            },
            "baxis": {
             "endlinecolor": "#2a3f5f",
             "gridcolor": "white",
             "linecolor": "white",
             "minorgridcolor": "white",
             "startlinecolor": "#2a3f5f"
            },
            "type": "carpet"
           }
          ],
          "choropleth": [
           {
            "colorbar": {
             "outlinewidth": 0,
             "ticks": ""
            },
            "type": "choropleth"
           }
          ],
          "contour": [
           {
            "colorbar": {
             "outlinewidth": 0,
             "ticks": ""
            },
            "colorscale": [
             [
              0,
              "#0d0887"
             ],
             [
              0.1111111111111111,
              "#46039f"
             ],
             [
              0.2222222222222222,
              "#7201a8"
             ],
             [
              0.3333333333333333,
              "#9c179e"
             ],
             [
              0.4444444444444444,
              "#bd3786"
             ],
             [
              0.5555555555555556,
              "#d8576b"
             ],
             [
              0.6666666666666666,
              "#ed7953"
             ],
             [
              0.7777777777777778,
              "#fb9f3a"
             ],
             [
              0.8888888888888888,
              "#fdca26"
             ],
             [
              1,
              "#f0f921"
             ]
            ],
            "type": "contour"
           }
          ],
          "contourcarpet": [
           {
            "colorbar": {
             "outlinewidth": 0,
             "ticks": ""
            },
            "type": "contourcarpet"
           }
          ],
          "heatmap": [
           {
            "colorbar": {
             "outlinewidth": 0,
             "ticks": ""
            },
            "colorscale": [
             [
              0,
              "#0d0887"
             ],
             [
              0.1111111111111111,
              "#46039f"
             ],
             [
              0.2222222222222222,
              "#7201a8"
             ],
             [
              0.3333333333333333,
              "#9c179e"
             ],
             [
              0.4444444444444444,
              "#bd3786"
             ],
             [
              0.5555555555555556,
              "#d8576b"
             ],
             [
              0.6666666666666666,
              "#ed7953"
             ],
             [
              0.7777777777777778,
              "#fb9f3a"
             ],
             [
              0.8888888888888888,
              "#fdca26"
             ],
             [
              1,
              "#f0f921"
             ]
            ],
            "type": "heatmap"
           }
          ],
          "heatmapgl": [
           {
            "colorbar": {
             "outlinewidth": 0,
             "ticks": ""
            },
            "colorscale": [
             [
              0,
              "#0d0887"
             ],
             [
              0.1111111111111111,
              "#46039f"
             ],
             [
              0.2222222222222222,
              "#7201a8"
             ],
             [
              0.3333333333333333,
              "#9c179e"
             ],
             [
              0.4444444444444444,
              "#bd3786"
             ],
             [
              0.5555555555555556,
              "#d8576b"
             ],
             [
              0.6666666666666666,
              "#ed7953"
             ],
             [
              0.7777777777777778,
              "#fb9f3a"
             ],
             [
              0.8888888888888888,
              "#fdca26"
             ],
             [
              1,
              "#f0f921"
             ]
            ],
            "type": "heatmapgl"
           }
          ],
          "histogram": [
           {
            "marker": {
             "pattern": {
              "fillmode": "overlay",
              "size": 10,
              "solidity": 0.2
             }
            },
            "type": "histogram"
           }
          ],
          "histogram2d": [
           {
            "colorbar": {
             "outlinewidth": 0,
             "ticks": ""
            },
            "colorscale": [
             [
              0,
              "#0d0887"
             ],
             [
              0.1111111111111111,
              "#46039f"
             ],
             [
              0.2222222222222222,
              "#7201a8"
             ],
             [
              0.3333333333333333,
              "#9c179e"
             ],
             [
              0.4444444444444444,
              "#bd3786"
             ],
             [
              0.5555555555555556,
              "#d8576b"
             ],
             [
              0.6666666666666666,
              "#ed7953"
             ],
             [
              0.7777777777777778,
              "#fb9f3a"
             ],
             [
              0.8888888888888888,
              "#fdca26"
             ],
             [
              1,
              "#f0f921"
             ]
            ],
            "type": "histogram2d"
           }
          ],
          "histogram2dcontour": [
           {
            "colorbar": {
             "outlinewidth": 0,
             "ticks": ""
            },
            "colorscale": [
             [
              0,
              "#0d0887"
             ],
             [
              0.1111111111111111,
              "#46039f"
             ],
             [
              0.2222222222222222,
              "#7201a8"
             ],
             [
              0.3333333333333333,
              "#9c179e"
             ],
             [
              0.4444444444444444,
              "#bd3786"
             ],
             [
              0.5555555555555556,
              "#d8576b"
             ],
             [
              0.6666666666666666,
              "#ed7953"
             ],
             [
              0.7777777777777778,
              "#fb9f3a"
             ],
             [
              0.8888888888888888,
              "#fdca26"
             ],
             [
              1,
              "#f0f921"
             ]
            ],
            "type": "histogram2dcontour"
           }
          ],
          "mesh3d": [
           {
            "colorbar": {
             "outlinewidth": 0,
             "ticks": ""
            },
            "type": "mesh3d"
           }
          ],
          "parcoords": [
           {
            "line": {
             "colorbar": {
              "outlinewidth": 0,
              "ticks": ""
             }
            },
            "type": "parcoords"
           }
          ],
          "pie": [
           {
            "automargin": true,
            "type": "pie"
           }
          ],
          "scatter": [
           {
            "fillpattern": {
             "fillmode": "overlay",
             "size": 10,
             "solidity": 0.2
            },
            "type": "scatter"
           }
          ],
          "scatter3d": [
           {
            "line": {
             "colorbar": {
              "outlinewidth": 0,
              "ticks": ""
             }
            },
            "marker": {
             "colorbar": {
              "outlinewidth": 0,
              "ticks": ""
             }
            },
            "type": "scatter3d"
           }
          ],
          "scattercarpet": [
           {
            "marker": {
             "colorbar": {
              "outlinewidth": 0,
              "ticks": ""
             }
            },
            "type": "scattercarpet"
           }
          ],
          "scattergeo": [
           {
            "marker": {
             "colorbar": {
              "outlinewidth": 0,
              "ticks": ""
             }
            },
            "type": "scattergeo"
           }
          ],
          "scattergl": [
           {
            "marker": {
             "colorbar": {
              "outlinewidth": 0,
              "ticks": ""
             }
            },
            "type": "scattergl"
           }
          ],
          "scattermapbox": [
           {
            "marker": {
             "colorbar": {
              "outlinewidth": 0,
              "ticks": ""
             }
            },
            "type": "scattermapbox"
           }
          ],
          "scatterpolar": [
           {
            "marker": {
             "colorbar": {
              "outlinewidth": 0,
              "ticks": ""
             }
            },
            "type": "scatterpolar"
           }
          ],
          "scatterpolargl": [
           {
            "marker": {
             "colorbar": {
              "outlinewidth": 0,
              "ticks": ""
             }
            },
            "type": "scatterpolargl"
           }
          ],
          "scatterternary": [
           {
            "marker": {
             "colorbar": {
              "outlinewidth": 0,
              "ticks": ""
             }
            },
            "type": "scatterternary"
           }
          ],
          "surface": [
           {
            "colorbar": {
             "outlinewidth": 0,
             "ticks": ""
            },
            "colorscale": [
             [
              0,
              "#0d0887"
             ],
             [
              0.1111111111111111,
              "#46039f"
             ],
             [
              0.2222222222222222,
              "#7201a8"
             ],
             [
              0.3333333333333333,
              "#9c179e"
             ],
             [
              0.4444444444444444,
              "#bd3786"
             ],
             [
              0.5555555555555556,
              "#d8576b"
             ],
             [
              0.6666666666666666,
              "#ed7953"
             ],
             [
              0.7777777777777778,
              "#fb9f3a"
             ],
             [
              0.8888888888888888,
              "#fdca26"
             ],
             [
              1,
              "#f0f921"
             ]
            ],
            "type": "surface"
           }
          ],
          "table": [
           {
            "cells": {
             "fill": {
              "color": "#EBF0F8"
             },
             "line": {
              "color": "white"
             }
            },
            "header": {
             "fill": {
              "color": "#C8D4E3"
             },
             "line": {
              "color": "white"
             }
            },
            "type": "table"
           }
          ]
         },
         "layout": {
          "annotationdefaults": {
           "arrowcolor": "#2a3f5f",
           "arrowhead": 0,
           "arrowwidth": 1
          },
          "autotypenumbers": "strict",
          "coloraxis": {
           "colorbar": {
            "outlinewidth": 0,
            "ticks": ""
           }
          },
          "colorscale": {
           "diverging": [
            [
             0,
             "#8e0152"
            ],
            [
             0.1,
             "#c51b7d"
            ],
            [
             0.2,
             "#de77ae"
            ],
            [
             0.3,
             "#f1b6da"
            ],
            [
             0.4,
             "#fde0ef"
            ],
            [
             0.5,
             "#f7f7f7"
            ],
            [
             0.6,
             "#e6f5d0"
            ],
            [
             0.7,
             "#b8e186"
            ],
            [
             0.8,
             "#7fbc41"
            ],
            [
             0.9,
             "#4d9221"
            ],
            [
             1,
             "#276419"
            ]
           ],
           "sequential": [
            [
             0,
             "#0d0887"
            ],
            [
             0.1111111111111111,
             "#46039f"
            ],
            [
             0.2222222222222222,
             "#7201a8"
            ],
            [
             0.3333333333333333,
             "#9c179e"
            ],
            [
             0.4444444444444444,
             "#bd3786"
            ],
            [
             0.5555555555555556,
             "#d8576b"
            ],
            [
             0.6666666666666666,
             "#ed7953"
            ],
            [
             0.7777777777777778,
             "#fb9f3a"
            ],
            [
             0.8888888888888888,
             "#fdca26"
            ],
            [
             1,
             "#f0f921"
            ]
           ],
           "sequentialminus": [
            [
             0,
             "#0d0887"
            ],
            [
             0.1111111111111111,
             "#46039f"
            ],
            [
             0.2222222222222222,
             "#7201a8"
            ],
            [
             0.3333333333333333,
             "#9c179e"
            ],
            [
             0.4444444444444444,
             "#bd3786"
            ],
            [
             0.5555555555555556,
             "#d8576b"
            ],
            [
             0.6666666666666666,
             "#ed7953"
            ],
            [
             0.7777777777777778,
             "#fb9f3a"
            ],
            [
             0.8888888888888888,
             "#fdca26"
            ],
            [
             1,
             "#f0f921"
            ]
           ]
          },
          "colorway": [
           "#636efa",
           "#EF553B",
           "#00cc96",
           "#ab63fa",
           "#FFA15A",
           "#19d3f3",
           "#FF6692",
           "#B6E880",
           "#FF97FF",
           "#FECB52"
          ],
          "font": {
           "color": "#2a3f5f"
          },
          "geo": {
           "bgcolor": "white",
           "lakecolor": "white",
           "landcolor": "#E5ECF6",
           "showlakes": true,
           "showland": true,
           "subunitcolor": "white"
          },
          "hoverlabel": {
           "align": "left"
          },
          "hovermode": "closest",
          "mapbox": {
           "style": "light"
          },
          "paper_bgcolor": "white",
          "plot_bgcolor": "#E5ECF6",
          "polar": {
           "angularaxis": {
            "gridcolor": "white",
            "linecolor": "white",
            "ticks": ""
           },
           "bgcolor": "#E5ECF6",
           "radialaxis": {
            "gridcolor": "white",
            "linecolor": "white",
            "ticks": ""
           }
          },
          "scene": {
           "xaxis": {
            "backgroundcolor": "#E5ECF6",
            "gridcolor": "white",
            "gridwidth": 2,
            "linecolor": "white",
            "showbackground": true,
            "ticks": "",
            "zerolinecolor": "white"
           },
           "yaxis": {
            "backgroundcolor": "#E5ECF6",
            "gridcolor": "white",
            "gridwidth": 2,
            "linecolor": "white",
            "showbackground": true,
            "ticks": "",
            "zerolinecolor": "white"
           },
           "zaxis": {
            "backgroundcolor": "#E5ECF6",
            "gridcolor": "white",
            "gridwidth": 2,
            "linecolor": "white",
            "showbackground": true,
            "ticks": "",
            "zerolinecolor": "white"
           }
          },
          "shapedefaults": {
           "line": {
            "color": "#2a3f5f"
           }
          },
          "ternary": {
           "aaxis": {
            "gridcolor": "white",
            "linecolor": "white",
            "ticks": ""
           },
           "baxis": {
            "gridcolor": "white",
            "linecolor": "white",
            "ticks": ""
           },
           "bgcolor": "#E5ECF6",
           "caxis": {
            "gridcolor": "white",
            "linecolor": "white",
            "ticks": ""
           }
          },
          "title": {
           "x": 0.05
          },
          "xaxis": {
           "automargin": true,
           "gridcolor": "white",
           "linecolor": "white",
           "ticks": "",
           "title": {
            "standoff": 15
           },
           "zerolinecolor": "white",
           "zerolinewidth": 2
          },
          "yaxis": {
           "automargin": true,
           "gridcolor": "white",
           "linecolor": "white",
           "ticks": "",
           "title": {
            "standoff": 15
           },
           "zerolinecolor": "white",
           "zerolinewidth": 2
          }
         }
        },
        "width": 900,
        "xaxis": {
         "rangeselector": {
          "buttons": [
           {
            "count": 7,
            "label": "1w",
            "step": "day",
            "stepmode": "backward"
           },
           {
            "count": 1,
            "label": "1m",
            "step": "month",
            "stepmode": "backward"
           },
           {
            "count": 6,
            "label": "6m",
            "step": "month",
            "stepmode": "backward"
           },
           {
            "count": 1,
            "label": "1y",
            "step": "year",
            "stepmode": "backward"
           },
           {
            "step": "all"
           }
          ]
         },
         "rangeslider": {
          "visible": true
         },
         "title": {
          "text": "ds"
         },
         "type": "date"
        },
        "yaxis": {
         "title": {
          "text": "y"
         }
        }
       }
      }
     },
     "metadata": {},
     "output_type": "display_data"
    }
   ],
   "source": [
    "# Plot the predictions\n",
    "plot_plotly(model,prediction)"
   ]
  },
  {
   "cell_type": "code",
   "execution_count": 46,
   "metadata": {},
   "outputs": [
    {
     "name": "stderr",
     "output_type": "stream",
     "text": [
      "c:\\Users\\abdul\\AppData\\Local\\Programs\\Python\\Python310\\lib\\site-packages\\plotly\\io\\_json.py:534: UserWarning:\n",
      "\n",
      "Discarding nonzero nanoseconds in conversion.\n",
      "\n"
     ]
    },
    {
     "data": {
      "application/vnd.plotly.v1+json": {
       "config": {
        "plotlyServerURL": "https://plot.ly"
       },
       "data": [
        {
         "line": {
          "color": "#0072B2",
          "width": 2
         },
         "mode": "lines",
         "name": "trend",
         "type": "scatter",
         "x": [
          "2019-01-01T00:00:00",
          "2019-02-01T00:00:00",
          "2019-03-01T00:00:00",
          "2019-04-01T00:00:00",
          "2019-05-01T00:00:00",
          "2019-06-01T00:00:00",
          "2019-07-01T00:00:00",
          "2019-08-01T00:00:00",
          "2019-09-01T00:00:00",
          "2019-10-01T00:00:00",
          "2019-11-01T00:00:00",
          "2019-12-01T00:00:00",
          "2020-01-01T00:00:00",
          "2020-02-01T00:00:00",
          "2020-03-01T00:00:00",
          "2020-04-01T00:00:00"
         ],
         "xaxis": "x",
         "y": [
          109.69688749767484,
          109.69688749767484,
          109.69688749767484,
          109.69688749767484,
          109.69688749767484,
          109.69688749767484,
          109.69688749767484,
          109.69688749767484,
          109.69688749767484,
          109.69688749767484,
          109.69688749767484,
          109.69688749767484,
          109.69688749767484,
          109.69688749767484,
          109.69688749767484,
          109.69688749767484
         ],
         "yaxis": "y"
        },
        {
         "line": {
          "color": "#0072B2",
          "width": 2
         },
         "mode": "lines",
         "name": "yearly",
         "type": "scatter",
         "x": [
          "2017-01-01T00:00:00",
          "2017-01-02T00:00:59.178082",
          "2017-01-03T00:01:58.356164",
          "2017-01-04T00:02:57.534246",
          "2017-01-05T00:03:56.712328",
          "2017-01-06T00:04:55.890411",
          "2017-01-07T00:05:55.068493",
          "2017-01-08T00:06:54.246575",
          "2017-01-09T00:07:53.424657",
          "2017-01-10T00:08:52.602739",
          "2017-01-11T00:09:51.780822",
          "2017-01-12T00:10:50.958904",
          "2017-01-13T00:11:50.136986",
          "2017-01-14T00:12:49.315068",
          "2017-01-15T00:13:48.493150",
          "2017-01-16T00:14:47.671232",
          "2017-01-17T00:15:46.849315",
          "2017-01-18T00:16:46.027397",
          "2017-01-19T00:17:45.205479",
          "2017-01-20T00:18:44.383561",
          "2017-01-21T00:19:43.561643",
          "2017-01-22T00:20:42.739726",
          "2017-01-23T00:21:41.917808",
          "2017-01-24T00:22:41.095890",
          "2017-01-25T00:23:40.273972",
          "2017-01-26T00:24:39.452054",
          "2017-01-27T00:25:38.630137",
          "2017-01-28T00:26:37.808219",
          "2017-01-29T00:27:36.986301",
          "2017-01-30T00:28:36.164383",
          "2017-01-31T00:29:35.342465",
          "2017-02-01T00:30:34.520547",
          "2017-02-02T00:31:33.698630",
          "2017-02-03T00:32:32.876712",
          "2017-02-04T00:33:32.054794",
          "2017-02-05T00:34:31.232876",
          "2017-02-06T00:35:30.410958",
          "2017-02-07T00:36:29.589041",
          "2017-02-08T00:37:28.767123",
          "2017-02-09T00:38:27.945205",
          "2017-02-10T00:39:27.123287",
          "2017-02-11T00:40:26.301369",
          "2017-02-12T00:41:25.479452",
          "2017-02-13T00:42:24.657534",
          "2017-02-14T00:43:23.835616",
          "2017-02-15T00:44:23.013698",
          "2017-02-16T00:45:22.191780",
          "2017-02-17T00:46:21.369862",
          "2017-02-18T00:47:20.547945",
          "2017-02-19T00:48:19.726027",
          "2017-02-20T00:49:18.904109",
          "2017-02-21T00:50:18.082191",
          "2017-02-22T00:51:17.260273",
          "2017-02-23T00:52:16.438356",
          "2017-02-24T00:53:15.616438",
          "2017-02-25T00:54:14.794520",
          "2017-02-26T00:55:13.972602",
          "2017-02-27T00:56:13.150684",
          "2017-02-28T00:57:12.328767",
          "2017-03-01T00:58:11.506849",
          "2017-03-02T00:59:10.684931",
          "2017-03-03T01:00:09.863013",
          "2017-03-04T01:01:09.041095",
          "2017-03-05T01:02:08.219177",
          "2017-03-06T01:03:07.397260",
          "2017-03-07T01:04:06.575342",
          "2017-03-08T01:05:05.753424",
          "2017-03-09T01:06:04.931506",
          "2017-03-10T01:07:04.109588",
          "2017-03-11T01:08:03.287671",
          "2017-03-12T01:09:02.465753",
          "2017-03-13T01:10:01.643835",
          "2017-03-14T01:11:00.821917",
          "2017-03-15T01:12:00",
          "2017-03-16T01:12:59.178082",
          "2017-03-17T01:13:58.356164",
          "2017-03-18T01:14:57.534246",
          "2017-03-19T01:15:56.712328",
          "2017-03-20T01:16:55.890411",
          "2017-03-21T01:17:55.068493",
          "2017-03-22T01:18:54.246575",
          "2017-03-23T01:19:53.424657",
          "2017-03-24T01:20:52.602739",
          "2017-03-25T01:21:51.780822",
          "2017-03-26T01:22:50.958904",
          "2017-03-27T01:23:50.136986",
          "2017-03-28T01:24:49.315068",
          "2017-03-29T01:25:48.493150",
          "2017-03-30T01:26:47.671232",
          "2017-03-31T01:27:46.849315",
          "2017-04-01T01:28:46.027397",
          "2017-04-02T01:29:45.205479",
          "2017-04-03T01:30:44.383561",
          "2017-04-04T01:31:43.561643",
          "2017-04-05T01:32:42.739726",
          "2017-04-06T01:33:41.917808",
          "2017-04-07T01:34:41.095890",
          "2017-04-08T01:35:40.273972",
          "2017-04-09T01:36:39.452054",
          "2017-04-10T01:37:38.630137",
          "2017-04-11T01:38:37.808219",
          "2017-04-12T01:39:36.986301",
          "2017-04-13T01:40:36.164383",
          "2017-04-14T01:41:35.342465",
          "2017-04-15T01:42:34.520547",
          "2017-04-16T01:43:33.698630",
          "2017-04-17T01:44:32.876712",
          "2017-04-18T01:45:32.054794",
          "2017-04-19T01:46:31.232876",
          "2017-04-20T01:47:30.410958",
          "2017-04-21T01:48:29.589041",
          "2017-04-22T01:49:28.767123",
          "2017-04-23T01:50:27.945205",
          "2017-04-24T01:51:27.123287",
          "2017-04-25T01:52:26.301369",
          "2017-04-26T01:53:25.479452",
          "2017-04-27T01:54:24.657534",
          "2017-04-28T01:55:23.835616",
          "2017-04-29T01:56:23.013698",
          "2017-04-30T01:57:22.191780",
          "2017-05-01T01:58:21.369862",
          "2017-05-02T01:59:20.547945",
          "2017-05-03T02:00:19.726027",
          "2017-05-04T02:01:18.904109",
          "2017-05-05T02:02:18.082191",
          "2017-05-06T02:03:17.260273",
          "2017-05-07T02:04:16.438356",
          "2017-05-08T02:05:15.616438",
          "2017-05-09T02:06:14.794520",
          "2017-05-10T02:07:13.972602",
          "2017-05-11T02:08:13.150684",
          "2017-05-12T02:09:12.328767",
          "2017-05-13T02:10:11.506849",
          "2017-05-14T02:11:10.684931",
          "2017-05-15T02:12:09.863013",
          "2017-05-16T02:13:09.041095",
          "2017-05-17T02:14:08.219177",
          "2017-05-18T02:15:07.397260",
          "2017-05-19T02:16:06.575342",
          "2017-05-20T02:17:05.753424",
          "2017-05-21T02:18:04.931506",
          "2017-05-22T02:19:04.109588",
          "2017-05-23T02:20:03.287671",
          "2017-05-24T02:21:02.465753",
          "2017-05-25T02:22:01.643835",
          "2017-05-26T02:23:00.821917",
          "2017-05-27T02:24:00",
          "2017-05-28T02:24:59.178082",
          "2017-05-29T02:25:58.356164",
          "2017-05-30T02:26:57.534246",
          "2017-05-31T02:27:56.712328",
          "2017-06-01T02:28:55.890411",
          "2017-06-02T02:29:55.068493",
          "2017-06-03T02:30:54.246575",
          "2017-06-04T02:31:53.424657",
          "2017-06-05T02:32:52.602739",
          "2017-06-06T02:33:51.780822",
          "2017-06-07T02:34:50.958904",
          "2017-06-08T02:35:50.136986",
          "2017-06-09T02:36:49.315068",
          "2017-06-10T02:37:48.493150",
          "2017-06-11T02:38:47.671232",
          "2017-06-12T02:39:46.849315",
          "2017-06-13T02:40:46.027397",
          "2017-06-14T02:41:45.205479",
          "2017-06-15T02:42:44.383561",
          "2017-06-16T02:43:43.561643",
          "2017-06-17T02:44:42.739726",
          "2017-06-18T02:45:41.917808",
          "2017-06-19T02:46:41.095890",
          "2017-06-20T02:47:40.273972",
          "2017-06-21T02:48:39.452054",
          "2017-06-22T02:49:38.630137",
          "2017-06-23T02:50:37.808219",
          "2017-06-24T02:51:36.986301",
          "2017-06-25T02:52:36.164383",
          "2017-06-26T02:53:35.342465",
          "2017-06-27T02:54:34.520547",
          "2017-06-28T02:55:33.698630",
          "2017-06-29T02:56:32.876712",
          "2017-06-30T02:57:32.054794",
          "2017-07-01T02:58:31.232876",
          "2017-07-02T02:59:30.410958",
          "2017-07-03T03:00:29.589041",
          "2017-07-04T03:01:28.767123",
          "2017-07-05T03:02:27.945205",
          "2017-07-06T03:03:27.123287",
          "2017-07-07T03:04:26.301369",
          "2017-07-08T03:05:25.479452",
          "2017-07-09T03:06:24.657534",
          "2017-07-10T03:07:23.835616",
          "2017-07-11T03:08:23.013698",
          "2017-07-12T03:09:22.191780",
          "2017-07-13T03:10:21.369862",
          "2017-07-14T03:11:20.547945",
          "2017-07-15T03:12:19.726027",
          "2017-07-16T03:13:18.904109",
          "2017-07-17T03:14:18.082191",
          "2017-07-18T03:15:17.260273",
          "2017-07-19T03:16:16.438356",
          "2017-07-20T03:17:15.616438",
          "2017-07-21T03:18:14.794520",
          "2017-07-22T03:19:13.972602",
          "2017-07-23T03:20:13.150684",
          "2017-07-24T03:21:12.328767",
          "2017-07-25T03:22:11.506849",
          "2017-07-26T03:23:10.684931",
          "2017-07-27T03:24:09.863013",
          "2017-07-28T03:25:09.041095",
          "2017-07-29T03:26:08.219177",
          "2017-07-30T03:27:07.397260",
          "2017-07-31T03:28:06.575342",
          "2017-08-01T03:29:05.753424",
          "2017-08-02T03:30:04.931506",
          "2017-08-03T03:31:04.109588",
          "2017-08-04T03:32:03.287671",
          "2017-08-05T03:33:02.465753",
          "2017-08-06T03:34:01.643835",
          "2017-08-07T03:35:00.821917",
          "2017-08-08T03:36:00",
          "2017-08-09T03:36:59.178082",
          "2017-08-10T03:37:58.356164",
          "2017-08-11T03:38:57.534246",
          "2017-08-12T03:39:56.712328",
          "2017-08-13T03:40:55.890411",
          "2017-08-14T03:41:55.068493",
          "2017-08-15T03:42:54.246575",
          "2017-08-16T03:43:53.424657",
          "2017-08-17T03:44:52.602739",
          "2017-08-18T03:45:51.780822",
          "2017-08-19T03:46:50.958904",
          "2017-08-20T03:47:50.136986",
          "2017-08-21T03:48:49.315068",
          "2017-08-22T03:49:48.493150",
          "2017-08-23T03:50:47.671232",
          "2017-08-24T03:51:46.849315",
          "2017-08-25T03:52:46.027397",
          "2017-08-26T03:53:45.205479",
          "2017-08-27T03:54:44.383561",
          "2017-08-28T03:55:43.561643",
          "2017-08-29T03:56:42.739726",
          "2017-08-30T03:57:41.917808",
          "2017-08-31T03:58:41.095890",
          "2017-09-01T03:59:40.273972",
          "2017-09-02T04:00:39.452054",
          "2017-09-03T04:01:38.630137",
          "2017-09-04T04:02:37.808219",
          "2017-09-05T04:03:36.986301",
          "2017-09-06T04:04:36.164383",
          "2017-09-07T04:05:35.342465",
          "2017-09-08T04:06:34.520547",
          "2017-09-09T04:07:33.698630",
          "2017-09-10T04:08:32.876712",
          "2017-09-11T04:09:32.054794",
          "2017-09-12T04:10:31.232876",
          "2017-09-13T04:11:30.410958",
          "2017-09-14T04:12:29.589041",
          "2017-09-15T04:13:28.767123",
          "2017-09-16T04:14:27.945205",
          "2017-09-17T04:15:27.123287",
          "2017-09-18T04:16:26.301369",
          "2017-09-19T04:17:25.479452",
          "2017-09-20T04:18:24.657534",
          "2017-09-21T04:19:23.835616",
          "2017-09-22T04:20:23.013698",
          "2017-09-23T04:21:22.191780",
          "2017-09-24T04:22:21.369862",
          "2017-09-25T04:23:20.547945",
          "2017-09-26T04:24:19.726027",
          "2017-09-27T04:25:18.904109",
          "2017-09-28T04:26:18.082191",
          "2017-09-29T04:27:17.260273",
          "2017-09-30T04:28:16.438356",
          "2017-10-01T04:29:15.616438",
          "2017-10-02T04:30:14.794520",
          "2017-10-03T04:31:13.972602",
          "2017-10-04T04:32:13.150684",
          "2017-10-05T04:33:12.328767",
          "2017-10-06T04:34:11.506849",
          "2017-10-07T04:35:10.684931",
          "2017-10-08T04:36:09.863013",
          "2017-10-09T04:37:09.041095",
          "2017-10-10T04:38:08.219177",
          "2017-10-11T04:39:07.397260",
          "2017-10-12T04:40:06.575342",
          "2017-10-13T04:41:05.753424",
          "2017-10-14T04:42:04.931506",
          "2017-10-15T04:43:04.109588",
          "2017-10-16T04:44:03.287671",
          "2017-10-17T04:45:02.465753",
          "2017-10-18T04:46:01.643835",
          "2017-10-19T04:47:00.821917",
          "2017-10-20T04:48:00",
          "2017-10-21T04:48:59.178082",
          "2017-10-22T04:49:58.356164",
          "2017-10-23T04:50:57.534246",
          "2017-10-24T04:51:56.712328",
          "2017-10-25T04:52:55.890411",
          "2017-10-26T04:53:55.068493",
          "2017-10-27T04:54:54.246575",
          "2017-10-28T04:55:53.424657",
          "2017-10-29T04:56:52.602739",
          "2017-10-30T04:57:51.780822",
          "2017-10-31T04:58:50.958904",
          "2017-11-01T04:59:50.136986",
          "2017-11-02T05:00:49.315068",
          "2017-11-03T05:01:48.493150",
          "2017-11-04T05:02:47.671232",
          "2017-11-05T05:03:46.849315",
          "2017-11-06T05:04:46.027397",
          "2017-11-07T05:05:45.205479",
          "2017-11-08T05:06:44.383561",
          "2017-11-09T05:07:43.561643",
          "2017-11-10T05:08:42.739726",
          "2017-11-11T05:09:41.917808",
          "2017-11-12T05:10:41.095890",
          "2017-11-13T05:11:40.273972",
          "2017-11-14T05:12:39.452054",
          "2017-11-15T05:13:38.630137",
          "2017-11-16T05:14:37.808219",
          "2017-11-17T05:15:36.986301",
          "2017-11-18T05:16:36.164383",
          "2017-11-19T05:17:35.342465",
          "2017-11-20T05:18:34.520547",
          "2017-11-21T05:19:33.698630",
          "2017-11-22T05:20:32.876712",
          "2017-11-23T05:21:32.054794",
          "2017-11-24T05:22:31.232876",
          "2017-11-25T05:23:30.410958",
          "2017-11-26T05:24:29.589041",
          "2017-11-27T05:25:28.767123",
          "2017-11-28T05:26:27.945205",
          "2017-11-29T05:27:27.123287",
          "2017-11-30T05:28:26.301369",
          "2017-12-01T05:29:25.479452",
          "2017-12-02T05:30:24.657534",
          "2017-12-03T05:31:23.835616",
          "2017-12-04T05:32:23.013698",
          "2017-12-05T05:33:22.191780",
          "2017-12-06T05:34:21.369862",
          "2017-12-07T05:35:20.547945",
          "2017-12-08T05:36:19.726027",
          "2017-12-09T05:37:18.904109",
          "2017-12-10T05:38:18.082191",
          "2017-12-11T05:39:17.260273",
          "2017-12-12T05:40:16.438356",
          "2017-12-13T05:41:15.616438",
          "2017-12-14T05:42:14.794520",
          "2017-12-15T05:43:13.972602",
          "2017-12-16T05:44:13.150684",
          "2017-12-17T05:45:12.328767",
          "2017-12-18T05:46:11.506849",
          "2017-12-19T05:47:10.684931",
          "2017-12-20T05:48:09.863013",
          "2017-12-21T05:49:09.041095",
          "2017-12-22T05:50:08.219177",
          "2017-12-23T05:51:07.397260",
          "2017-12-24T05:52:06.575342",
          "2017-12-25T05:53:05.753424",
          "2017-12-26T05:54:04.931506",
          "2017-12-27T05:55:04.109588",
          "2017-12-28T05:56:03.287671",
          "2017-12-29T05:57:02.465753",
          "2017-12-30T05:58:01.643835",
          "2017-12-31T05:59:00.821917"
         ],
         "xaxis": "x2",
         "y": [
          -2.757206669720425,
          -2.825864663168109,
          -2.8843286673460344,
          -2.9315858483573454,
          -2.966845193603452,
          -2.989579388310783,
          -2.999560875466287,
          -2.996890151650633,
          -2.9820162873577893,
          -2.9557462371640546,
          -2.919244192244305,
          -2.874019455183364,
          -2.821902206383056,
          -2.765011105826622,
          -2.7057039934966562,
          -2.646524759896149,
          -2.5901387047163635,
          -2.539260900539845,
          -2.4965822313954193,
          -2.4646864712737107,
          -2.4459725584910563,
          -2.4425753126553955,
          -2.4562906976987766,
          -2.4885078547601376,
          -2.5401474917526716,
          -2.61161483044099,
          -2.702761546473335,
          -2.8128632411693166,
          -2.940611833779131,
          -3.084125651200941,
          -3.2409672334476607,
          -3.4081941338222532,
          -3.5824087987309743,
          -3.759831015846528,
          -3.93638381729265,
          -4.107780287840182,
          -4.269639678880633,
          -4.417589178858335,
          -4.547379354926789,
          -4.654997914775634,
          -4.736781533564015,
          -4.789517595708036,
          -4.81054633033497,
          -4.79784142063049,
          -4.750081596212778,
          -4.666703453339901,
          -4.547941372150216,
          -4.394837630748737,
          -4.20924113596267,
          -3.9937810021968763,
          -3.7518201632410966,
          -3.487385880027219,
          -3.205097339256856,
          -2.9100455989674514,
          -2.6076896386435564,
          -2.3037258637287996,
          -2.0039521094945987,
          -1.7141233504675286,
          -1.4398225669412035,
          -1.1863003758509596,
          -0.9583544395708207,
          -0.7602014004979553,
          -0.5953634562311073,
          -0.4665798745196896,
          -0.3757184680538258,
          -0.3237275229291795,
          -0.31060017506838256,
          -0.33536461589093364,
          -0.396099422474292,
          -0.4899688380320352,
          -0.613288871063402,
          -0.761608625793455,
          -0.9298144925976326,
          -1.112253418283111,
          -1.3028597941071962,
          -1.4953147326719687,
          -1.6831915111770286,
          -1.860114768950868,
          -2.019916989325948,
          -2.156791696343344,
          -2.2654305035560833,
          -2.341163464106914,
          -2.380067388390875,
          -2.37906379726535,
          -2.335993875753214,
          -2.2496689520736295,
          -2.1199021639481406,
          -1.9475043803657472,
          -1.7342643154578092,
          -1.4828997816920908,
          -1.1969828701977656,
          -0.8808608542243921,
          -0.5395246133352983,
          -0.17849392516124435,
          0.19632576113453148,
          0.5787922227488166,
          0.9626846094468822,
          1.3418401209610082,
          1.7103318754433898,
          2.062594871166565,
          2.393563117407554,
          2.6987877600814913,
          2.974540602110266,
          3.2178820286564602,
          3.426738361546599,
          3.5999233184754242,
          3.737151679207858,
          3.8390261872794325,
          3.906995394755246,
          3.9433003051648527,
          3.9508881769803126,
          3.933314543598308,
          3.894628482925819,
          3.8392451095900983,
          3.7718131204109375,
          3.6970710574278307,
          3.6197092804306026,
          3.544232251364677,
          3.474827741319192,
          3.415250663964949,
          3.3687128999355065,
          3.3377982339326717,
          3.324392393748287,
          3.329635052130597,
          3.353894566919419,
          3.3967639269490166,
          3.4570826286563467,
          3.5329781516763386,
          3.6219293756168933,
          3.720848787580384,
          3.826182455881536,
          3.9340174377244,
          4.040211884712615,
          4.140519730713573,
          4.230724494721662,
          4.3067719462668865,
          4.364894119620461,
          4.401733880986693,
          4.414448865715788,
          4.400805502275658,
          4.35925480159889,
          4.288987745280599,
          4.189974215943895,
          4.062971425544265,
          3.9095177037127917,
          3.731900539491033,
          3.5331015316245367,
          3.316733326257791,
          3.0869353730432234,
          2.8482771680173276,
          2.605637870026521,
          2.36407891466225,
          2.128708283580166,
          1.9045562455145848,
          1.6964255302911755,
          1.508774281146605,
          1.3455940230936705,
          1.2103024458653708,
          1.1056500993939429,
          1.033650006146953,
          0.9955148805966654,
          0.9916277097125159,
          1.0215274145196063,
          1.0839187807298367,
          1.1766998623192952,
          1.2970177578224065,
          1.4413367501510377,
          1.6055267964300677,
          1.7849663245891272,
          1.9746592881021197,
          2.169349986306684,
          2.3636656188270853,
          2.552238977402386,
          2.7298406554557944,
          2.8915043595151877,
          3.0326457315200726,
          3.1491624126031943,
          3.2375366598268314,
          3.294905418612533,
          3.3191213490210747,
          3.308792860693829,
          3.2633056983737765,
          3.182823086615357,
          3.068267137674637,
          2.9212816429943205,
          2.7441775141386824,
          2.5398602624565334,
          2.3117565155505866,
          2.0637057961556753,
          1.7998677718917637,
          1.5246130998512049,
          1.2424111954875183,
          0.9577354334998502,
          0.6749394493459681,
          0.39817277464587536,
          0.13128931564772975,
          -0.12222966726308054,
          -0.35934216726228413,
          -0.5774842092255785,
          -0.7746205869955087,
          -0.9492521415114135,
          -1.1004213505508813,
          -1.2276998416821117,
          -1.3311626655325142,
          -1.4113440371662849,
          -1.4691934794862036,
          -1.5060104488327728,
          -1.5233782788964148,
          -1.5230919925655169,
          -1.5070841892950348,
          -1.4773508734334815,
          -1.4358797781504558,
          -1.3845838042417424,
          -1.3252412533020252,
          -1.2594439218844122,
          -1.1885592038405,
          -1.11369565873017,
          -1.0356880239026227,
          -0.9550906553015217,
          -0.8721827383493502,
          -0.7869898163997011,
          -0.6993062806482343,
          -0.6087367459651783,
          -0.5147404350905878,
          -0.4166824708244133,
          -0.31388792130028453,
          -0.20570373485199378,
          -0.09154844251160764,
          0.029028769574071897,
          0.15629933645305083,
          0.2903118242216095,
          0.4308581750618395,
          0.5774411908175032,
          0.7292689312670483,
          0.8852442287696958,
          1.0439738920308006,
          1.2037898090634447,
          1.3627720119124054,
          1.5188007014824172,
          1.6695990165773893,
          1.8127928583464346,
          1.945974931059488,
          2.066774199141288,
          2.1729205570813654,
          2.2623231343990597,
          2.3331319384202343,
          2.3838020644097684,
          2.413149683436857,
          2.4203993355646185,
          2.4052208825421033,
          2.367755369582437,
          2.3086270719845,
          2.228942987523604,
          2.1302772424191843,
          2.0146480437370915,
          1.8844700162856636,
          1.742505787733173,
          1.5918014722037515,
          1.435614127638134,
          1.277330243749799,
          1.1203884247139881,
          0.9681810046738508,
          0.8239738047313893,
          0.690818923563586,
          0.5714726772291758,
          0.46832710812057077,
          0.38333684352151276,
          0.3179709128798564,
          0.27316988623505817,
          0.24931822234062187,
          0.24623130477508523,
          0.2631573542303312,
          0.2987943392191716,
          0.35132217385916553,
          0.4184482927138317,
          0.49746609991146157,
          0.585325646096678,
          0.6787083894851356,
          0.774119481820273,
          0.8679747684054074,
          0.9566951859349859,
          1.036800955550064,
          1.1049986921362918,
          1.1582726976104663,
          1.1939594530913362,
          1.2098175344859092,
          1.2040853226169665,
          1.175525531273492,
          1.1234579363604937,
          1.0477739452660857,
          0.9489392364217489,
          0.8279802863999922,
          0.6864549522605868,
          0.5264180732292361,
          0.3503581346907612,
          0.161139396091499,
          -0.03807272496294052,
          -0.24389157367214714,
          -0.452796200878493,
          -0.6612084571265228,
          -0.8655942790361829,
          -1.0625383462312512,
          -1.2488262130895909,
          -1.4215173760069788,
          -1.5780115572989601,
          -1.7160961749537642,
          -1.8340004596524864,
          -1.930418996324825,
          -2.0045318692287473,
          -2.056010420747867,
          -2.085007680079762,
          -2.092142278747204,
          -2.0784648392171174,
          -2.045417611943772,
          -1.9947847139137822,
          -1.928634513628449,
          -1.8492609249140055,
          -1.7591135673012293,
          -1.660734178796529,
          -1.5566900993148505,
          -1.4495109662108245,
          -1.3416284386058754,
          -1.2353279942582507,
          -1.1326953537217475,
          -1.0355836677491799,
          -0.9455834376044908,
          -0.8640022557939364,
          -0.7918587276224747,
          -0.7298764881448022,
          -0.6784967735877189,
          -0.6378943562177158,
          -0.6080017291225646,
          -0.5885391799146302,
          -0.5790504984677991,
          -0.5789397730531253,
          -0.5875122085290988,
          -0.6040137526124993,
          -0.6276699172130877,
          -0.6577202925516101,
          -0.6934518058449267,
          -0.7342241272978557,
          -0.7794902912812279,
          -0.8288104269636576,
          -0.8818591184913956,
          -0.9384225596638653,
          -0.9983950247807779,
          -1.0617628513807116,
          -1.1285857699303572,
          -1.198972931086643,
          -1.2730562399836063,
          -1.3509570540859297,
          -1.4327605853508745,
          -1.5184823077848077,
          -1.608040537275562,
          -1.7012325983635077,
          -1.7977101246007818,
          -1.8969708800016611,
          -1.9983464342347514,
          -2.1010024394031688,
          -2.203945527787956,
          -2.30603918171852,
          -2.4060213442259375,
          -2.5025410140329742,
          -2.594189390865295,
          -2.679542344069995
         ],
         "yaxis": "y2"
        },
        {
         "line": {
          "color": "#0072B2",
          "width": 2
         },
         "mode": "lines",
         "name": "weekly",
         "type": "scatter",
         "x": [
          "2017-01-01T00:00:00",
          "2017-01-02T00:00:00",
          "2017-01-03T00:00:00",
          "2017-01-04T00:00:00",
          "2017-01-05T00:00:00",
          "2017-01-06T00:00:00",
          "2017-01-07T00:00:00"
         ],
         "xaxis": "x3",
         "y": [
          0.018018846363017385,
          0.36998409608344063,
          -26.044396992124824,
          25.602300935132128,
          0.018037009334101413,
          0.01803362766625317,
          0.01802247768934792
         ],
         "yaxis": "y3"
        },
        {
         "line": {
          "color": "#0072B2",
          "width": 2
         },
         "mode": "lines",
         "name": "daily",
         "type": "scatter",
         "x": [
          "2017-01-01T00:00:00"
         ],
         "xaxis": "x4",
         "y": [
          -0.14425487876620938
         ],
         "yaxis": "y4"
        }
       ],
       "layout": {
        "height": 800,
        "showlegend": false,
        "template": {
         "data": {
          "bar": [
           {
            "error_x": {
             "color": "#2a3f5f"
            },
            "error_y": {
             "color": "#2a3f5f"
            },
            "marker": {
             "line": {
              "color": "#E5ECF6",
              "width": 0.5
             },
             "pattern": {
              "fillmode": "overlay",
              "size": 10,
              "solidity": 0.2
             }
            },
            "type": "bar"
           }
          ],
          "barpolar": [
           {
            "marker": {
             "line": {
              "color": "#E5ECF6",
              "width": 0.5
             },
             "pattern": {
              "fillmode": "overlay",
              "size": 10,
              "solidity": 0.2
             }
            },
            "type": "barpolar"
           }
          ],
          "carpet": [
           {
            "aaxis": {
             "endlinecolor": "#2a3f5f",
             "gridcolor": "white",
             "linecolor": "white",
             "minorgridcolor": "white",
             "startlinecolor": "#2a3f5f"
            },
            "baxis": {
             "endlinecolor": "#2a3f5f",
             "gridcolor": "white",
             "linecolor": "white",
             "minorgridcolor": "white",
             "startlinecolor": "#2a3f5f"
            },
            "type": "carpet"
           }
          ],
          "choropleth": [
           {
            "colorbar": {
             "outlinewidth": 0,
             "ticks": ""
            },
            "type": "choropleth"
           }
          ],
          "contour": [
           {
            "colorbar": {
             "outlinewidth": 0,
             "ticks": ""
            },
            "colorscale": [
             [
              0,
              "#0d0887"
             ],
             [
              0.1111111111111111,
              "#46039f"
             ],
             [
              0.2222222222222222,
              "#7201a8"
             ],
             [
              0.3333333333333333,
              "#9c179e"
             ],
             [
              0.4444444444444444,
              "#bd3786"
             ],
             [
              0.5555555555555556,
              "#d8576b"
             ],
             [
              0.6666666666666666,
              "#ed7953"
             ],
             [
              0.7777777777777778,
              "#fb9f3a"
             ],
             [
              0.8888888888888888,
              "#fdca26"
             ],
             [
              1,
              "#f0f921"
             ]
            ],
            "type": "contour"
           }
          ],
          "contourcarpet": [
           {
            "colorbar": {
             "outlinewidth": 0,
             "ticks": ""
            },
            "type": "contourcarpet"
           }
          ],
          "heatmap": [
           {
            "colorbar": {
             "outlinewidth": 0,
             "ticks": ""
            },
            "colorscale": [
             [
              0,
              "#0d0887"
             ],
             [
              0.1111111111111111,
              "#46039f"
             ],
             [
              0.2222222222222222,
              "#7201a8"
             ],
             [
              0.3333333333333333,
              "#9c179e"
             ],
             [
              0.4444444444444444,
              "#bd3786"
             ],
             [
              0.5555555555555556,
              "#d8576b"
             ],
             [
              0.6666666666666666,
              "#ed7953"
             ],
             [
              0.7777777777777778,
              "#fb9f3a"
             ],
             [
              0.8888888888888888,
              "#fdca26"
             ],
             [
              1,
              "#f0f921"
             ]
            ],
            "type": "heatmap"
           }
          ],
          "heatmapgl": [
           {
            "colorbar": {
             "outlinewidth": 0,
             "ticks": ""
            },
            "colorscale": [
             [
              0,
              "#0d0887"
             ],
             [
              0.1111111111111111,
              "#46039f"
             ],
             [
              0.2222222222222222,
              "#7201a8"
             ],
             [
              0.3333333333333333,
              "#9c179e"
             ],
             [
              0.4444444444444444,
              "#bd3786"
             ],
             [
              0.5555555555555556,
              "#d8576b"
             ],
             [
              0.6666666666666666,
              "#ed7953"
             ],
             [
              0.7777777777777778,
              "#fb9f3a"
             ],
             [
              0.8888888888888888,
              "#fdca26"
             ],
             [
              1,
              "#f0f921"
             ]
            ],
            "type": "heatmapgl"
           }
          ],
          "histogram": [
           {
            "marker": {
             "pattern": {
              "fillmode": "overlay",
              "size": 10,
              "solidity": 0.2
             }
            },
            "type": "histogram"
           }
          ],
          "histogram2d": [
           {
            "colorbar": {
             "outlinewidth": 0,
             "ticks": ""
            },
            "colorscale": [
             [
              0,
              "#0d0887"
             ],
             [
              0.1111111111111111,
              "#46039f"
             ],
             [
              0.2222222222222222,
              "#7201a8"
             ],
             [
              0.3333333333333333,
              "#9c179e"
             ],
             [
              0.4444444444444444,
              "#bd3786"
             ],
             [
              0.5555555555555556,
              "#d8576b"
             ],
             [
              0.6666666666666666,
              "#ed7953"
             ],
             [
              0.7777777777777778,
              "#fb9f3a"
             ],
             [
              0.8888888888888888,
              "#fdca26"
             ],
             [
              1,
              "#f0f921"
             ]
            ],
            "type": "histogram2d"
           }
          ],
          "histogram2dcontour": [
           {
            "colorbar": {
             "outlinewidth": 0,
             "ticks": ""
            },
            "colorscale": [
             [
              0,
              "#0d0887"
             ],
             [
              0.1111111111111111,
              "#46039f"
             ],
             [
              0.2222222222222222,
              "#7201a8"
             ],
             [
              0.3333333333333333,
              "#9c179e"
             ],
             [
              0.4444444444444444,
              "#bd3786"
             ],
             [
              0.5555555555555556,
              "#d8576b"
             ],
             [
              0.6666666666666666,
              "#ed7953"
             ],
             [
              0.7777777777777778,
              "#fb9f3a"
             ],
             [
              0.8888888888888888,
              "#fdca26"
             ],
             [
              1,
              "#f0f921"
             ]
            ],
            "type": "histogram2dcontour"
           }
          ],
          "mesh3d": [
           {
            "colorbar": {
             "outlinewidth": 0,
             "ticks": ""
            },
            "type": "mesh3d"
           }
          ],
          "parcoords": [
           {
            "line": {
             "colorbar": {
              "outlinewidth": 0,
              "ticks": ""
             }
            },
            "type": "parcoords"
           }
          ],
          "pie": [
           {
            "automargin": true,
            "type": "pie"
           }
          ],
          "scatter": [
           {
            "fillpattern": {
             "fillmode": "overlay",
             "size": 10,
             "solidity": 0.2
            },
            "type": "scatter"
           }
          ],
          "scatter3d": [
           {
            "line": {
             "colorbar": {
              "outlinewidth": 0,
              "ticks": ""
             }
            },
            "marker": {
             "colorbar": {
              "outlinewidth": 0,
              "ticks": ""
             }
            },
            "type": "scatter3d"
           }
          ],
          "scattercarpet": [
           {
            "marker": {
             "colorbar": {
              "outlinewidth": 0,
              "ticks": ""
             }
            },
            "type": "scattercarpet"
           }
          ],
          "scattergeo": [
           {
            "marker": {
             "colorbar": {
              "outlinewidth": 0,
              "ticks": ""
             }
            },
            "type": "scattergeo"
           }
          ],
          "scattergl": [
           {
            "marker": {
             "colorbar": {
              "outlinewidth": 0,
              "ticks": ""
             }
            },
            "type": "scattergl"
           }
          ],
          "scattermapbox": [
           {
            "marker": {
             "colorbar": {
              "outlinewidth": 0,
              "ticks": ""
             }
            },
            "type": "scattermapbox"
           }
          ],
          "scatterpolar": [
           {
            "marker": {
             "colorbar": {
              "outlinewidth": 0,
              "ticks": ""
             }
            },
            "type": "scatterpolar"
           }
          ],
          "scatterpolargl": [
           {
            "marker": {
             "colorbar": {
              "outlinewidth": 0,
              "ticks": ""
             }
            },
            "type": "scatterpolargl"
           }
          ],
          "scatterternary": [
           {
            "marker": {
             "colorbar": {
              "outlinewidth": 0,
              "ticks": ""
             }
            },
            "type": "scatterternary"
           }
          ],
          "surface": [
           {
            "colorbar": {
             "outlinewidth": 0,
             "ticks": ""
            },
            "colorscale": [
             [
              0,
              "#0d0887"
             ],
             [
              0.1111111111111111,
              "#46039f"
             ],
             [
              0.2222222222222222,
              "#7201a8"
             ],
             [
              0.3333333333333333,
              "#9c179e"
             ],
             [
              0.4444444444444444,
              "#bd3786"
             ],
             [
              0.5555555555555556,
              "#d8576b"
             ],
             [
              0.6666666666666666,
              "#ed7953"
             ],
             [
              0.7777777777777778,
              "#fb9f3a"
             ],
             [
              0.8888888888888888,
              "#fdca26"
             ],
             [
              1,
              "#f0f921"
             ]
            ],
            "type": "surface"
           }
          ],
          "table": [
           {
            "cells": {
             "fill": {
              "color": "#EBF0F8"
             },
             "line": {
              "color": "white"
             }
            },
            "header": {
             "fill": {
              "color": "#C8D4E3"
             },
             "line": {
              "color": "white"
             }
            },
            "type": "table"
           }
          ]
         },
         "layout": {
          "annotationdefaults": {
           "arrowcolor": "#2a3f5f",
           "arrowhead": 0,
           "arrowwidth": 1
          },
          "autotypenumbers": "strict",
          "coloraxis": {
           "colorbar": {
            "outlinewidth": 0,
            "ticks": ""
           }
          },
          "colorscale": {
           "diverging": [
            [
             0,
             "#8e0152"
            ],
            [
             0.1,
             "#c51b7d"
            ],
            [
             0.2,
             "#de77ae"
            ],
            [
             0.3,
             "#f1b6da"
            ],
            [
             0.4,
             "#fde0ef"
            ],
            [
             0.5,
             "#f7f7f7"
            ],
            [
             0.6,
             "#e6f5d0"
            ],
            [
             0.7,
             "#b8e186"
            ],
            [
             0.8,
             "#7fbc41"
            ],
            [
             0.9,
             "#4d9221"
            ],
            [
             1,
             "#276419"
            ]
           ],
           "sequential": [
            [
             0,
             "#0d0887"
            ],
            [
             0.1111111111111111,
             "#46039f"
            ],
            [
             0.2222222222222222,
             "#7201a8"
            ],
            [
             0.3333333333333333,
             "#9c179e"
            ],
            [
             0.4444444444444444,
             "#bd3786"
            ],
            [
             0.5555555555555556,
             "#d8576b"
            ],
            [
             0.6666666666666666,
             "#ed7953"
            ],
            [
             0.7777777777777778,
             "#fb9f3a"
            ],
            [
             0.8888888888888888,
             "#fdca26"
            ],
            [
             1,
             "#f0f921"
            ]
           ],
           "sequentialminus": [
            [
             0,
             "#0d0887"
            ],
            [
             0.1111111111111111,
             "#46039f"
            ],
            [
             0.2222222222222222,
             "#7201a8"
            ],
            [
             0.3333333333333333,
             "#9c179e"
            ],
            [
             0.4444444444444444,
             "#bd3786"
            ],
            [
             0.5555555555555556,
             "#d8576b"
            ],
            [
             0.6666666666666666,
             "#ed7953"
            ],
            [
             0.7777777777777778,
             "#fb9f3a"
            ],
            [
             0.8888888888888888,
             "#fdca26"
            ],
            [
             1,
             "#f0f921"
            ]
           ]
          },
          "colorway": [
           "#636efa",
           "#EF553B",
           "#00cc96",
           "#ab63fa",
           "#FFA15A",
           "#19d3f3",
           "#FF6692",
           "#B6E880",
           "#FF97FF",
           "#FECB52"
          ],
          "font": {
           "color": "#2a3f5f"
          },
          "geo": {
           "bgcolor": "white",
           "lakecolor": "white",
           "landcolor": "#E5ECF6",
           "showlakes": true,
           "showland": true,
           "subunitcolor": "white"
          },
          "hoverlabel": {
           "align": "left"
          },
          "hovermode": "closest",
          "mapbox": {
           "style": "light"
          },
          "paper_bgcolor": "white",
          "plot_bgcolor": "#E5ECF6",
          "polar": {
           "angularaxis": {
            "gridcolor": "white",
            "linecolor": "white",
            "ticks": ""
           },
           "bgcolor": "#E5ECF6",
           "radialaxis": {
            "gridcolor": "white",
            "linecolor": "white",
            "ticks": ""
           }
          },
          "scene": {
           "xaxis": {
            "backgroundcolor": "#E5ECF6",
            "gridcolor": "white",
            "gridwidth": 2,
            "linecolor": "white",
            "showbackground": true,
            "ticks": "",
            "zerolinecolor": "white"
           },
           "yaxis": {
            "backgroundcolor": "#E5ECF6",
            "gridcolor": "white",
            "gridwidth": 2,
            "linecolor": "white",
            "showbackground": true,
            "ticks": "",
            "zerolinecolor": "white"
           },
           "zaxis": {
            "backgroundcolor": "#E5ECF6",
            "gridcolor": "white",
            "gridwidth": 2,
            "linecolor": "white",
            "showbackground": true,
            "ticks": "",
            "zerolinecolor": "white"
           }
          },
          "shapedefaults": {
           "line": {
            "color": "#2a3f5f"
           }
          },
          "ternary": {
           "aaxis": {
            "gridcolor": "white",
            "linecolor": "white",
            "ticks": ""
           },
           "baxis": {
            "gridcolor": "white",
            "linecolor": "white",
            "ticks": ""
           },
           "bgcolor": "#E5ECF6",
           "caxis": {
            "gridcolor": "white",
            "linecolor": "white",
            "ticks": ""
           }
          },
          "title": {
           "x": 0.05
          },
          "xaxis": {
           "automargin": true,
           "gridcolor": "white",
           "linecolor": "white",
           "ticks": "",
           "title": {
            "standoff": 15
           },
           "zerolinecolor": "white",
           "zerolinewidth": 2
          },
          "yaxis": {
           "automargin": true,
           "gridcolor": "white",
           "linecolor": "white",
           "ticks": "",
           "title": {
            "standoff": 15
           },
           "zerolinecolor": "white",
           "zerolinewidth": 2
          }
         }
        },
        "width": 900,
        "xaxis": {
         "anchor": "y",
         "domain": [
          0,
          1
         ],
         "range": [
          "2018-12-09T04:48:00",
          "2020-04-23T19:12:00"
         ],
         "type": "date"
        },
        "xaxis2": {
         "anchor": "y2",
         "domain": [
          0,
          1
         ],
         "range": [
          "2016-12-13T18:54:02.958904",
          "2018-01-18T11:04:57.863013"
         ],
         "tickformat": "%B %e",
         "type": "date"
        },
        "xaxis3": {
         "anchor": "y3",
         "domain": [
          0,
          1
         ],
         "range": [
          "2016-12-31T16:48:00",
          "2017-01-07T07:12:00"
         ],
         "tickformat": "%A",
         "type": "date"
        },
        "xaxis4": {
         "anchor": "y4",
         "domain": [
          0,
          1
         ],
         "range": [
          "2017-01-01T00:00:00",
          "2017-01-01T00:00:00"
         ],
         "tickformat": "%H:%M",
         "type": "date"
        },
        "yaxis": {
         "anchor": "x",
         "domain": [
          0.80625,
          1
         ],
         "rangemode": "normal",
         "title": {
          "text": "trend"
         },
         "zerolinecolor": "#AAA"
        },
        "yaxis2": {
         "anchor": "x2",
         "domain": [
          0.5375,
          0.73125
         ],
         "title": {
          "text": "yearly"
         },
         "zerolinecolor": "#AAA"
        },
        "yaxis3": {
         "anchor": "x3",
         "domain": [
          0.26875,
          0.4625
         ],
         "title": {
          "text": "weekly"
         },
         "zerolinecolor": "#AAA"
        },
        "yaxis4": {
         "anchor": "x4",
         "domain": [
          0,
          0.19375
         ],
         "title": {
          "text": "daily"
         },
         "zerolinecolor": "#AAA"
        }
       }
      }
     },
     "metadata": {},
     "output_type": "display_data"
    }
   ],
   "source": [
    "# plot the model componets\n",
    "plot_components_plotly(model, prediction)"
   ]
  }
 ],
 "metadata": {
  "kernelspec": {
   "display_name": "Python 3",
   "language": "python",
   "name": "python3"
  },
  "language_info": {
   "codemirror_mode": {
    "name": "ipython",
    "version": 3
   },
   "file_extension": ".py",
   "mimetype": "text/x-python",
   "name": "python",
   "nbconvert_exporter": "python",
   "pygments_lexer": "ipython3",
   "version": "3.10.9"
  },
  "orig_nbformat": 4
 },
 "nbformat": 4,
 "nbformat_minor": 2
}
